{
 "cells": [
  {
   "cell_type": "code",
   "execution_count": 2,
   "id": "91308739-bbf6-4bc7-aebb-fea079f32c22",
   "metadata": {},
   "outputs": [
    {
     "name": "stdout",
     "output_type": "stream",
     "text": [
      "Loading fine-tuned model from: gemma3_train_with_GPT4.1\n",
      "==((====))==  Unsloth 2025.3.19: Fast Gemma3 patching. Transformers: 4.51.3. vLLM: 0.8.4.\n",
      "   \\\\   /|    NVIDIA GeForce RTX 4070. Num GPUs = 1. Max memory: 11.994 GB. Platform: Linux.\n",
      "O^O/ \\_/ \\    Torch: 2.6.0+cu124. CUDA: 8.9. CUDA Toolkit: 12.4. Triton: 3.2.0\n",
      "\\        /    Bfloat16 = TRUE. FA [Xformers = 0.0.29.post2. FA2 = False]\n",
      " \"-____-\"     Free license: http://github.com/unslothai/unsloth\n",
      "Unsloth: Fast downloading is enabled - ignore downloading bars which are red colored!\n",
      "Model loaded successfully.\n",
      "Applying chat template to tokenizer...\n",
      "Tokenizer ready.\n",
      "Loaded 1523 tweets from ../data/test.csv\n",
      "\n",
      "=== Classifying tweets using fine-tuned model from gemma3_train_with_GPT4.1 ===\n"
     ]
    },
    {
     "name": "stderr",
     "output_type": "stream",
     "text": [
      "Classifying:   0%|▏                                                                 | 3/1523 [00:03<33:02,  1.30s/tweet]Traceback (most recent call last):\n",
      "  File \"/tmp/ipykernel_2751/1298950190.py\", line 160, in main\n",
      "    raise ValueError(f\"Expected 2 parts separated by ';' but got {len(parts)}. Response: '{raw_resp_decoded}'\")\n",
      "ValueError: Expected 2 parts separated by ';' but got 3. Response: '0; This tweet expresses gratitude for a successful event and doesn't report any actual disaster or emergency; it uses disaster-related terms metaphorically to describe a positive experience.'\n",
      "Classifying:   0%|▏                                                                 | 4/1523 [00:05<38:23,  1.52s/tweet]"
     ]
    },
    {
     "name": "stdout",
     "output_type": "stream",
     "text": [
      "\n",
      "--- Debug: Error occurred ---\n",
      "Tweet: Aftershock back to school kick off was great. I want to thank everyone for making it possible. What ...\n",
      "Raw Response Decoded: '0; This tweet expresses gratitude for a successful event and doesn't report any actual disaster or emergency; it uses disaster-related terms metaphorically to describe a positive experience.'\n",
      "Exception Type: <class 'ValueError'>\n",
      "Exception Args: (\"Expected 2 parts separated by ';' but got 3. Response: '0; This tweet expresses gratitude for a successful event and doesn't report any actual disaster or emergency; it uses disaster-related terms metaphorically to describe a positive experience.'\",)\n",
      "Traceback:\n",
      "--- End Debug ---\n"
     ]
    },
    {
     "name": "stderr",
     "output_type": "stream",
     "text": [
      "Classifying:   3%|██                                                               | 47/1523 [01:10<33:29,  1.36s/tweet]Traceback (most recent call last):\n",
      "  File \"/tmp/ipykernel_2751/1298950190.py\", line 160, in main\n",
      "    raise ValueError(f\"Expected 2 parts separated by ';' but got {len(parts)}. Response: '{raw_resp_decoded}'\")\n",
      "ValueError: Expected 2 parts separated by ';' but got 3. Response: '0; This tweet does not report a real-life disaster or emergency; it's about removing links and a browser hijacker.'\n",
      "Classifying:   3%|██                                                               | 48/1523 [01:12<33:08,  1.35s/tweet]"
     ]
    },
    {
     "name": "stdout",
     "output_type": "stream",
     "text": [
      "\n",
      "--- Debug: Error occurred ---\n",
      "Tweet: Remove the http://t.co/Xxj2B4JxRt and Linkury Browser Hijacker http://t.co/9gtYlgXrOE http://t.co/yG...\n",
      "Raw Response Decoded: '0; This tweet does not report a real-life disaster or emergency; it's about removing links and a browser hijacker.'\n",
      "Exception Type: <class 'ValueError'>\n",
      "Exception Args: (\"Expected 2 parts separated by ';' but got 3. Response: '0; This tweet does not report a real-life disaster or emergency; it's about removing links and a browser hijacker.'\",)\n",
      "Traceback:\n",
      "--- End Debug ---\n"
     ]
    },
    {
     "name": "stderr",
     "output_type": "stream",
     "text": [
      "Classifying:   4%|██▊                                                              | 67/1523 [01:39<36:41,  1.51s/tweet]Traceback (most recent call last):\n",
      "  File \"/tmp/ipykernel_2751/1298950190.py\", line 160, in main\n",
      "    raise ValueError(f\"Expected 2 parts separated by ';' but got {len(parts)}. Response: '{raw_resp_decoded}'\")\n",
      "ValueError: Expected 2 parts separated by ';' but got 3. Response: '0; This tweet does not relate to any disaster or emergency; it expresses personal dislike.'\n",
      "Classifying:   4%|██▉                                                              | 68/1523 [01:40<32:02,  1.32s/tweet]"
     ]
    },
    {
     "name": "stdout",
     "output_type": "stream",
     "text": [
      "\n",
      "--- Debug: Error occurred ---\n",
      "Tweet: my ears are bleeding i hate stefano...\n",
      "Raw Response Decoded: '0; This tweet does not relate to any disaster or emergency; it expresses personal dislike.'\n",
      "Exception Type: <class 'ValueError'>\n",
      "Exception Args: (\"Expected 2 parts separated by ';' but got 3. Response: '0; This tweet does not relate to any disaster or emergency; it expresses personal dislike.'\",)\n",
      "Traceback:\n",
      "--- End Debug ---\n"
     ]
    },
    {
     "name": "stderr",
     "output_type": "stream",
     "text": [
      "Classifying:   5%|███▏                                                             | 76/1523 [01:50<34:04,  1.41s/tweet]Traceback (most recent call last):\n",
      "  File \"/tmp/ipykernel_2751/1298950190.py\", line 160, in main\n",
      "    raise ValueError(f\"Expected 2 parts separated by ';' but got {len(parts)}. Response: '{raw_resp_decoded}'\")\n",
      "ValueError: Expected 2 parts separated by ';' but got 3. Response: '0; This tweet expresses nervousness and doesn't indicate a real-life emergency or disaster-related event; it's a casual statement.'\n",
      "Classifying:   5%|███▎                                                             | 77/1523 [01:52<34:47,  1.44s/tweet]"
     ]
    },
    {
     "name": "stdout",
     "output_type": "stream",
     "text": [
      "\n",
      "--- Debug: Error occurred ---\n",
      "Tweet: @raineishida lol...Im just a nervous wreck :P...\n",
      "Raw Response Decoded: '0; This tweet expresses nervousness and doesn't indicate a real-life emergency or disaster-related event; it's a casual statement.'\n",
      "Exception Type: <class 'ValueError'>\n",
      "Exception Args: (\"Expected 2 parts separated by ';' but got 3. Response: '0; This tweet expresses nervousness and doesn't indicate a real-life emergency or disaster-related event; it's a casual statement.'\",)\n",
      "Traceback:\n",
      "--- End Debug ---\n"
     ]
    },
    {
     "name": "stderr",
     "output_type": "stream",
     "text": [
      "Classifying:   7%|████▎                                                           | 103/1523 [02:28<35:00,  1.48s/tweet]Traceback (most recent call last):\n",
      "  File \"/tmp/ipykernel_2751/1298950190.py\", line 160, in main\n",
      "    raise ValueError(f\"Expected 2 parts separated by ';' but got {len(parts)}. Response: '{raw_resp_decoded}'\")\n",
      "ValueError: Expected 2 parts separated by ';' but got 3. Response: '0; This tweet contains a seemingly random exclamation and a mention of \"Hond,\" which doesn't clearly indicate a disaster-related event or news report; it appears to be a non-emergency statement.'\n",
      "Classifying:   7%|████▎                                                           | 104/1523 [02:31<40:28,  1.71s/tweet]"
     ]
    },
    {
     "name": "stdout",
     "output_type": "stream",
     "text": [
      "\n",
      "--- Debug: Error occurred ---\n",
      "Tweet: I just screamed what the fuck is a hond...\n",
      "Raw Response Decoded: '0; This tweet contains a seemingly random exclamation and a mention of \"Hond,\" which doesn't clearly indicate a disaster-related event or news report; it appears to be a non-emergency statement.'\n",
      "Exception Type: <class 'ValueError'>\n",
      "Exception Args: ('Expected 2 parts separated by \\';\\' but got 3. Response: \\'0; This tweet contains a seemingly random exclamation and a mention of \"Hond,\" which doesn\\'t clearly indicate a disaster-related event or news report; it appears to be a non-emergency statement.\\'',)\n",
      "Traceback:\n",
      "--- End Debug ---\n"
     ]
    },
    {
     "name": "stderr",
     "output_type": "stream",
     "text": [
      "Classifying:   9%|██████                                                          | 143/1523 [03:25<30:56,  1.35s/tweet]Traceback (most recent call last):\n",
      "  File \"/tmp/ipykernel_2751/1298950190.py\", line 160, in main\n",
      "    raise ValueError(f\"Expected 2 parts separated by ';' but got {len(parts)}. Response: '{raw_resp_decoded}'\")\n",
      "ValueError: Expected 2 parts separated by ';' but got 3. Response: '0; This tweet expresses frustration about rioting following police-involved deaths, but it doesn't report a real-life emergency or factual news about a disaster; it uses disaster-related terminology metaphorically.'\n",
      "Classifying:   9%|██████                                                          | 144/1523 [03:27<35:53,  1.56s/tweet]"
     ]
    },
    {
     "name": "stdout",
     "output_type": "stream",
     "text": [
      "\n",
      "--- Debug: Error occurred ---\n",
      "Tweet: @halljh1720. I am so sick of criminals parents and friends rioting when they are killed by police. Y...\n",
      "Raw Response Decoded: '0; This tweet expresses frustration about rioting following police-involved deaths, but it doesn't report a real-life emergency or factual news about a disaster; it uses disaster-related terminology metaphorically.'\n",
      "Exception Type: <class 'ValueError'>\n",
      "Exception Args: (\"Expected 2 parts separated by ';' but got 3. Response: '0; This tweet expresses frustration about rioting following police-involved deaths, but it doesn't report a real-life emergency or factual news about a disaster; it uses disaster-related terminology metaphorically.'\",)\n",
      "Traceback:\n",
      "--- End Debug ---\n"
     ]
    },
    {
     "name": "stderr",
     "output_type": "stream",
     "text": [
      "Classifying:  11%|███████▏                                                        | 171/1523 [04:06<33:07,  1.47s/tweet]Traceback (most recent call last):\n",
      "  File \"/tmp/ipykernel_2751/1298950190.py\", line 160, in main\n",
      "    raise ValueError(f\"Expected 2 parts separated by ';' but got {len(parts)}. Response: '{raw_resp_decoded}'\")\n",
      "ValueError: Expected 2 parts separated by ';' but got 3. Response: '0; This tweet uses a metaphorical expression ('He'll kill me instead') and lacks specific details about a real-life emergency or disaster event; it's simply a statement about fleeing and pulling a trigger.'\n",
      "Classifying:  11%|███████▏                                                        | 172/1523 [04:08<38:00,  1.69s/tweet]"
     ]
    },
    {
     "name": "stdout",
     "output_type": "stream",
     "text": [
      "\n",
      "--- Debug: Error occurred ---\n",
      "Tweet: @TheSmallClark 'He'll kill me instead if he survived the shot. I don't exactly know. I fled the scen...\n",
      "Raw Response Decoded: '0; This tweet uses a metaphorical expression ('He'll kill me instead') and lacks specific details about a real-life emergency or disaster event; it's simply a statement about fleeing and pulling a trigger.'\n",
      "Exception Type: <class 'ValueError'>\n",
      "Exception Args: (\"Expected 2 parts separated by ';' but got 3. Response: '0; This tweet uses a metaphorical expression ('He'll kill me instead') and lacks specific details about a real-life emergency or disaster event; it's simply a statement about fleeing and pulling a trigger.'\",)\n",
      "Traceback:\n",
      "--- End Debug ---\n"
     ]
    },
    {
     "name": "stderr",
     "output_type": "stream",
     "text": [
      "Classifying:  13%|████████                                                        | 193/1523 [04:38<30:02,  1.36s/tweet]Traceback (most recent call last):\n",
      "  File \"/tmp/ipykernel_2751/1298950190.py\", line 160, in main\n",
      "    raise ValueError(f\"Expected 2 parts separated by ';' but got {len(parts)}. Response: '{raw_resp_decoded}'\")\n",
      "ValueError: Expected 2 parts separated by ';' but got 3. Response: '0; This tweet uses \"epic\" and references a Twitter meltdown, which are not genuine reports of a disaster event; it’s a metaphorical expression.'\n",
      "Classifying:  13%|████████▏                                                       | 194/1523 [04:39<32:47,  1.48s/tweet]"
     ]
    },
    {
     "name": "stdout",
     "output_type": "stream",
     "text": [
      "\n",
      "--- Debug: Error occurred ---\n",
      "Tweet: Deepak Chopra's EPIC Twitter Meltdown http://t.co/ethgAGPy5G...\n",
      "Raw Response Decoded: '0; This tweet uses \"epic\" and references a Twitter meltdown, which are not genuine reports of a disaster event; it’s a metaphorical expression.'\n",
      "Exception Type: <class 'ValueError'>\n",
      "Exception Args: ('Expected 2 parts separated by \\';\\' but got 3. Response: \\'0; This tweet uses \"epic\" and references a Twitter meltdown, which are not genuine reports of a disaster event; it’s a metaphorical expression.\\'',)\n",
      "Traceback:\n",
      "--- End Debug ---\n"
     ]
    },
    {
     "name": "stderr",
     "output_type": "stream",
     "text": [
      "Classifying:  13%|████████▍                                                       | 202/1523 [04:52<32:52,  1.49s/tweet]Traceback (most recent call last):\n",
      "  File \"/tmp/ipykernel_2751/1298950190.py\", line 160, in main\n",
      "    raise ValueError(f\"Expected 2 parts separated by ';' but got {len(parts)}. Response: '{raw_resp_decoded}'\")\n",
      "ValueError: Expected 2 parts separated by ';' but got 3. Response: '0; This tweet does not relate to any actual disaster or emergency; it discusses hiring a demolition company, which is not a disaster-related event.'\n",
      "Classifying:  13%|████████▌                                                       | 203/1523 [04:53<32:18,  1.47s/tweet]"
     ]
    },
    {
     "name": "stdout",
     "output_type": "stream",
     "text": [
      "\n",
      "--- Debug: Error occurred ---\n",
      "Tweet: Factors to Consider When Hiring a Demolition Company nOxDV...\n",
      "Raw Response Decoded: '0; This tweet does not relate to any actual disaster or emergency; it discusses hiring a demolition company, which is not a disaster-related event.'\n",
      "Exception Type: <class 'ValueError'>\n",
      "Exception Args: (\"Expected 2 parts separated by ';' but got 3. Response: '0; This tweet does not relate to any actual disaster or emergency; it discusses hiring a demolition company, which is not a disaster-related event.'\",)\n",
      "Traceback:\n",
      "--- End Debug ---\n"
     ]
    },
    {
     "name": "stderr",
     "output_type": "stream",
     "text": [
      "Classifying:  16%|██████████                                                      | 240/1523 [05:47<34:14,  1.60s/tweet]Traceback (most recent call last):\n",
      "  File \"/tmp/ipykernel_2751/1298950190.py\", line 160, in main\n",
      "    raise ValueError(f\"Expected 2 parts separated by ';' but got {len(parts)}. Response: '{raw_resp_decoded}'\")\n",
      "ValueError: Expected 2 parts separated by ';' but got 3. Response: '0; This tweet uses disaster-related terminology metaphorically and does not indicate a real-life emergency or crisis; it's simply a casual comment about enjoying a show.'\n",
      "Classifying:  16%|██████████▏                                                     | 241/1523 [05:49<35:31,  1.66s/tweet]"
     ]
    },
    {
     "name": "stdout",
     "output_type": "stream",
     "text": [
      "\n",
      "--- Debug: Error occurred ---\n",
      "Tweet: @batfanuk we enjoyed the show today. Great fun. The emergency non evacuation was interesting. Have a...\n",
      "Raw Response Decoded: '0; This tweet uses disaster-related terminology metaphorically and does not indicate a real-life emergency or crisis; it's simply a casual comment about enjoying a show.'\n",
      "Exception Type: <class 'ValueError'>\n",
      "Exception Args: (\"Expected 2 parts separated by ';' but got 3. Response: '0; This tweet uses disaster-related terminology metaphorically and does not indicate a real-life emergency or crisis; it's simply a casual comment about enjoying a show.'\",)\n",
      "Traceback:\n",
      "--- End Debug ---\n"
     ]
    },
    {
     "name": "stderr",
     "output_type": "stream",
     "text": [
      "Classifying:  17%|███████████                                                     | 263/1523 [06:21<29:39,  1.41s/tweet]Traceback (most recent call last):\n",
      "  File \"/tmp/ipykernel_2751/1298950190.py\", line 160, in main\n",
      "    raise ValueError(f\"Expected 2 parts separated by ';' but got {len(parts)}. Response: '{raw_resp_decoded}'\")\n",
      "ValueError: Expected 2 parts separated by ';' but got 3. Response: '0; This tweet uses informal language and doesn't report a real-life emergency or disaster; it's simply a casual expression.'\n",
      "Classifying:  17%|███████████                                                     | 264/1523 [06:23<30:02,  1.43s/tweet]"
     ]
    },
    {
     "name": "stdout",
     "output_type": "stream",
     "text": [
      "\n",
      "--- Debug: Error occurred ---\n",
      "Tweet: @almusafirah_ you feel trapped innit ??...\n",
      "Raw Response Decoded: '0; This tweet uses informal language and doesn't report a real-life emergency or disaster; it's simply a casual expression.'\n",
      "Exception Type: <class 'ValueError'>\n",
      "Exception Args: (\"Expected 2 parts separated by ';' but got 3. Response: '0; This tweet uses informal language and doesn't report a real-life emergency or disaster; it's simply a casual expression.'\",)\n",
      "Traceback:\n",
      "--- End Debug ---\n"
     ]
    },
    {
     "name": "stderr",
     "output_type": "stream",
     "text": [
      "Classifying:  19%|████████████                                                    | 287/1523 [06:55<28:33,  1.39s/tweet]Traceback (most recent call last):\n",
      "  File \"/tmp/ipykernel_2751/1298950190.py\", line 160, in main\n",
      "    raise ValueError(f\"Expected 2 parts separated by ';' but got {len(parts)}. Response: '{raw_resp_decoded}'\")\n",
      "ValueError: Expected 2 parts separated by ';' but got 3. Response: '0; This tweet discusses a blight issue, which is not a disaster-related event requiring immediate attention; it’s a more general agricultural concern.'\n",
      "Classifying:  19%|████████████                                                    | 288/1523 [06:57<29:39,  1.44s/tweet]"
     ]
    },
    {
     "name": "stdout",
     "output_type": "stream",
     "text": [
      "\n",
      "--- Debug: Error occurred ---\n",
      "Tweet: @todd_calfee so @mattburgener wanted to see that info on blight u got...\n",
      "Raw Response Decoded: '0; This tweet discusses a blight issue, which is not a disaster-related event requiring immediate attention; it’s a more general agricultural concern.'\n",
      "Exception Type: <class 'ValueError'>\n",
      "Exception Args: (\"Expected 2 parts separated by ';' but got 3. Response: '0; This tweet discusses a blight issue, which is not a disaster-related event requiring immediate attention; it’s a more general agricultural concern.'\",)\n",
      "Traceback:\n",
      "--- End Debug ---\n"
     ]
    },
    {
     "name": "stderr",
     "output_type": "stream",
     "text": [
      "Classifying:  21%|█████████████▏                                                  | 314/1523 [07:36<29:48,  1.48s/tweet]Traceback (most recent call last):\n",
      "  File \"/tmp/ipykernel_2751/1298950190.py\", line 160, in main\n",
      "    raise ValueError(f\"Expected 2 parts separated by ';' but got {len(parts)}. Response: '{raw_resp_decoded}'\")\n",
      "ValueError: Expected 2 parts separated by ';' but got 3. Response: '0; This tweet does not relate to a real-life disaster or emergency; it describes a technical observation about internet connectivity.'\n",
      "Classifying:  21%|█████████████▏                                                  | 315/1523 [07:37<29:05,  1.45s/tweet]"
     ]
    },
    {
     "name": "stdout",
     "output_type": "stream",
     "text": [
      "\n",
      "--- Debug: Error occurred ---\n",
      "Tweet: That horrible sinking feeling when youÛªve been at home on your phone for a while and you realise i...\n",
      "Raw Response Decoded: '0; This tweet does not relate to a real-life disaster or emergency; it describes a technical observation about internet connectivity.'\n",
      "Exception Type: <class 'ValueError'>\n",
      "Exception Args: (\"Expected 2 parts separated by ';' but got 3. Response: '0; This tweet does not relate to a real-life disaster or emergency; it describes a technical observation about internet connectivity.'\",)\n",
      "Traceback:\n",
      "--- End Debug ---\n"
     ]
    },
    {
     "name": "stderr",
     "output_type": "stream",
     "text": [
      "Classifying:  28%|█████████████████▊                                              | 425/1523 [10:16<27:01,  1.48s/tweet]Traceback (most recent call last):\n",
      "  File \"/tmp/ipykernel_2751/1298950190.py\", line 160, in main\n",
      "    raise ValueError(f\"Expected 2 parts separated by ';' but got {len(parts)}. Response: '{raw_resp_decoded}'\")\n",
      "ValueError: Expected 2 parts separated by ';' but got 3. Response: '0; This tweet does not relate to any actual disaster or emergency; it’s a casual mention of a YouTube video and doesn’t indicate a real-life event requiring attention.'\n",
      "Classifying:  28%|█████████████████▉                                              | 426/1523 [10:17<29:25,  1.61s/tweet]"
     ]
    },
    {
     "name": "stdout",
     "output_type": "stream",
     "text": [
      "\n",
      "--- Debug: Error occurred ---\n",
      "Tweet: I liked a @YouTube video http://t.co/5fR41TPzte Thorin's Thoughts - Riot and Sandbox Mode (LoL)...\n",
      "Raw Response Decoded: '0; This tweet does not relate to any actual disaster or emergency; it’s a casual mention of a YouTube video and doesn’t indicate a real-life event requiring attention.'\n",
      "Exception Type: <class 'ValueError'>\n",
      "Exception Args: (\"Expected 2 parts separated by ';' but got 3. Response: '0; This tweet does not relate to any actual disaster or emergency; it’s a casual mention of a YouTube video and doesn’t indicate a real-life event requiring attention.'\",)\n",
      "Traceback:\n",
      "--- End Debug ---\n"
     ]
    },
    {
     "name": "stderr",
     "output_type": "stream",
     "text": [
      "Classifying:  28%|█████████████████▉                                              | 427/1523 [10:20<34:15,  1.88s/tweet]Traceback (most recent call last):\n",
      "  File \"/tmp/ipykernel_2751/1298950190.py\", line 160, in main\n",
      "    raise ValueError(f\"Expected 2 parts separated by ';' but got {len(parts)}. Response: '{raw_resp_decoded}'\")\n",
      "ValueError: Expected 2 parts separated by ';' but got 3. Response: '0; This tweet does not relate to a disaster event; it discusses business strategies and access to information, using hashtags unrelated to emergencies.'\n",
      "Classifying:  28%|█████████████████▉                                              | 428/1523 [10:21<32:01,  1.75s/tweet]"
     ]
    },
    {
     "name": "stdout",
     "output_type": "stream",
     "text": [
      "\n",
      "--- Debug: Error occurred ---\n",
      "Tweet: Learn How I Gained Access To The Secrets Of The Top Earners &amp; Used Them To Explode My Home Busin...\n",
      "Raw Response Decoded: '0; This tweet does not relate to a disaster event; it discusses business strategies and access to information, using hashtags unrelated to emergencies.'\n",
      "Exception Type: <class 'ValueError'>\n",
      "Exception Args: (\"Expected 2 parts separated by ';' but got 3. Response: '0; This tweet does not relate to a disaster event; it discusses business strategies and access to information, using hashtags unrelated to emergencies.'\",)\n",
      "Traceback:\n",
      "--- End Debug ---\n"
     ]
    },
    {
     "name": "stderr",
     "output_type": "stream",
     "text": [
      "Classifying:  29%|██████████████████▋                                             | 444/1523 [10:45<24:14,  1.35s/tweet]Traceback (most recent call last):\n",
      "  File \"/tmp/ipykernel_2751/1298950190.py\", line 160, in main\n",
      "    raise ValueError(f\"Expected 2 parts separated by ';' but got {len(parts)}. Response: '{raw_resp_decoded}'\")\n",
      "ValueError: Expected 2 parts separated by ';' but got 3. Response: '0; This tweet uses exaggerated language and doesn't report a real-life emergency or disaster event; it appears to be a humorous expression.'\n",
      "Classifying:  29%|██████████████████▋                                             | 445/1523 [10:46<26:35,  1.48s/tweet]"
     ]
    },
    {
     "name": "stdout",
     "output_type": "stream",
     "text": [
      "\n",
      "--- Debug: Error occurred ---\n",
      "Tweet: @MariaSherwood2 @JohnJCampbell Mega bloody marvellous...\n",
      "Raw Response Decoded: '0; This tweet uses exaggerated language and doesn't report a real-life emergency or disaster event; it appears to be a humorous expression.'\n",
      "Exception Type: <class 'ValueError'>\n",
      "Exception Args: (\"Expected 2 parts separated by ';' but got 3. Response: '0; This tweet uses exaggerated language and doesn't report a real-life emergency or disaster event; it appears to be a humorous expression.'\",)\n",
      "Traceback:\n",
      "--- End Debug ---\n"
     ]
    },
    {
     "name": "stderr",
     "output_type": "stream",
     "text": [
      "Classifying:  31%|███████████████████▋                                            | 468/1523 [11:19<23:49,  1.36s/tweet]Traceback (most recent call last):\n",
      "  File \"/tmp/ipykernel_2751/1298950190.py\", line 160, in main\n",
      "    raise ValueError(f\"Expected 2 parts separated by ';' but got {len(parts)}. Response: '{raw_resp_decoded}'\")\n",
      "ValueError: Expected 2 parts separated by ';' but got 3. Response: '0; This tweet discusses bioterrorism agents, which are not necessarily related to an actual disaster event requiring immediate attention; it’s more of a factual listing.'\n",
      "Classifying:  31%|███████████████████▋                                            | 469/1523 [11:21<25:58,  1.48s/tweet]"
     ]
    },
    {
     "name": "stdout",
     "output_type": "stream",
     "text": [
      "\n",
      "--- Debug: Error occurred ---\n",
      "Tweet: CDC has a pretty cool list of all bioterrorism agents :3...\n",
      "Raw Response Decoded: '0; This tweet discusses bioterrorism agents, which are not necessarily related to an actual disaster event requiring immediate attention; it’s more of a factual listing.'\n",
      "Exception Type: <class 'ValueError'>\n",
      "Exception Args: (\"Expected 2 parts separated by ';' but got 3. Response: '0; This tweet discusses bioterrorism agents, which are not necessarily related to an actual disaster event requiring immediate attention; it’s more of a factual listing.'\",)\n",
      "Traceback:\n",
      "--- End Debug ---\n"
     ]
    },
    {
     "name": "stderr",
     "output_type": "stream",
     "text": [
      "Classifying:  31%|███████████████████▉                                            | 475/1523 [11:30<25:10,  1.44s/tweet]Traceback (most recent call last):\n",
      "  File \"/tmp/ipykernel_2751/1298950190.py\", line 160, in main\n",
      "    raise ValueError(f\"Expected 2 parts separated by ';' but got {len(parts)}. Response: '{raw_resp_decoded}'\")\n",
      "ValueError: Expected 2 parts separated by ';' but got 3. Response: '0; This tweet uses disaster-related terms metaphorically and does not indicate a real-life emergency or crisis; it’s simply an exclamation with random words.'\n",
      "Classifying:  31%|████████████████████                                            | 476/1523 [11:32<26:15,  1.51s/tweet]"
     ]
    },
    {
     "name": "stdout",
     "output_type": "stream",
     "text": [
      "\n",
      "--- Debug: Error occurred ---\n",
      "Tweet: Good way to end the day!!! Geyser plus dust storm! http://t.co/l5VakLR59M...\n",
      "Raw Response Decoded: '0; This tweet uses disaster-related terms metaphorically and does not indicate a real-life emergency or crisis; it’s simply an exclamation with random words.'\n",
      "Exception Type: <class 'ValueError'>\n",
      "Exception Args: (\"Expected 2 parts separated by ';' but got 3. Response: '0; This tweet uses disaster-related terms metaphorically and does not indicate a real-life emergency or crisis; it’s simply an exclamation with random words.'\",)\n",
      "Traceback:\n",
      "--- End Debug ---\n"
     ]
    },
    {
     "name": "stderr",
     "output_type": "stream",
     "text": [
      "Classifying:  33%|█████████████████████▏                                          | 503/1523 [12:09<22:10,  1.30s/tweet]Traceback (most recent call last):\n",
      "  File \"/tmp/ipykernel_2751/1298950190.py\", line 160, in main\n",
      "    raise ValueError(f\"Expected 2 parts separated by ';' but got {len(parts)}. Response: '{raw_resp_decoded}'\")\n",
      "ValueError: Expected 2 parts separated by ';' but got 3. Response: '0; This tweet does not relate to a disaster or emergency; it discusses individual rights and legal restrictions, unrelated to any actual disaster event.'\n",
      "Classifying:  33%|█████████████████████▏                                          | 504/1523 [12:11<22:41,  1.34s/tweet]"
     ]
    },
    {
     "name": "stdout",
     "output_type": "stream",
     "text": [
      "\n",
      "--- Debug: Error occurred ---\n",
      "Tweet: @cjbanning 4sake of argsuppose pre-born has attained individl rights.Generally courtof law forbids k...\n",
      "Raw Response Decoded: '0; This tweet does not relate to a disaster or emergency; it discusses individual rights and legal restrictions, unrelated to any actual disaster event.'\n",
      "Exception Type: <class 'ValueError'>\n",
      "Exception Args: (\"Expected 2 parts separated by ';' but got 3. Response: '0; This tweet does not relate to a disaster or emergency; it discusses individual rights and legal restrictions, unrelated to any actual disaster event.'\",)\n",
      "Traceback:\n",
      "--- End Debug ---\n"
     ]
    },
    {
     "name": "stderr",
     "output_type": "stream",
     "text": [
      "Classifying:  34%|█████████████████████▉                                          | 522/1523 [12:36<25:38,  1.54s/tweet]Traceback (most recent call last):\n",
      "  File \"/tmp/ipykernel_2751/1298950190.py\", line 160, in main\n",
      "    raise ValueError(f\"Expected 2 parts separated by ';' but got {len(parts)}. Response: '{raw_resp_decoded}'\")\n",
      "ValueError: Expected 2 parts separated by ';' but got 3. Response: '0; This tweet expresses a desire to visit a cave but does not report a real-life emergency or factual news about a disaster; it’s a casual mention.'\n",
      "Classifying:  34%|█████████████████████▉                                          | 523/1523 [12:38<26:54,  1.61s/tweet]"
     ]
    },
    {
     "name": "stdout",
     "output_type": "stream",
     "text": [
      "\n",
      "--- Debug: Error occurred ---\n",
      "Tweet: @DeeDee_Casey been on tour in the day to Hellfire caves! Would love to investigate the place though!...\n",
      "Raw Response Decoded: '0; This tweet expresses a desire to visit a cave but does not report a real-life emergency or factual news about a disaster; it’s a casual mention.'\n",
      "Exception Type: <class 'ValueError'>\n",
      "Exception Args: (\"Expected 2 parts separated by ';' but got 3. Response: '0; This tweet expresses a desire to visit a cave but does not report a real-life emergency or factual news about a disaster; it’s a casual mention.'\",)\n",
      "Traceback:\n",
      "--- End Debug ---\n"
     ]
    },
    {
     "name": "stderr",
     "output_type": "stream",
     "text": [
      "Classifying:  35%|██████████████████████▍                                         | 534/1523 [12:54<24:52,  1.51s/tweet]Traceback (most recent call last):\n",
      "  File \"/tmp/ipykernel_2751/1298950190.py\", line 160, in main\n",
      "    raise ValueError(f\"Expected 2 parts separated by ';' but got {len(parts)}. Response: '{raw_resp_decoded}'\")\n",
      "ValueError: Expected 2 parts separated by ';' but got 3. Response: '0; This tweet does not relate to a disaster event; it’s a statement about rules and regulations regarding weapons and uniforms, not a report of an emergency or crisis.'\n",
      "Classifying:  35%|██████████████████████▍                                         | 535/1523 [12:55<25:36,  1.55s/tweet]"
     ]
    },
    {
     "name": "stdout",
     "output_type": "stream",
     "text": [
      "\n",
      "--- Debug: Error occurred ---\n",
      "Tweet: @NRO Except when ordered not to carry unauthorized weapons while on duty or in military uniforms. TH...\n",
      "Raw Response Decoded: '0; This tweet does not relate to a disaster event; it’s a statement about rules and regulations regarding weapons and uniforms, not a report of an emergency or crisis.'\n",
      "Exception Type: <class 'ValueError'>\n",
      "Exception Args: (\"Expected 2 parts separated by ';' but got 3. Response: '0; This tweet does not relate to a disaster event; it’s a statement about rules and regulations regarding weapons and uniforms, not a report of an emergency or crisis.'\",)\n",
      "Traceback:\n",
      "--- End Debug ---\n"
     ]
    },
    {
     "name": "stderr",
     "output_type": "stream",
     "text": [
      "Classifying:  37%|███████████████████████▎                                        | 556/1523 [13:26<23:00,  1.43s/tweet]Traceback (most recent call last):\n",
      "  File \"/tmp/ipykernel_2751/1298950190.py\", line 160, in main\n",
      "    raise ValueError(f\"Expected 2 parts separated by ';' but got {len(parts)}. Response: '{raw_resp_decoded}'\")\n",
      "ValueError: Expected 2 parts separated by ';' but got 3. Response: '0; This tweet does not relate to any actual disaster or emergency event; it discusses a user's experience with Quora's collapsed answer feature.'\n",
      "Classifying:  37%|███████████████████████▍                                        | 557/1523 [13:28<23:32,  1.46s/tweet]"
     ]
    },
    {
     "name": "stdout",
     "output_type": "stream",
     "text": [
      "\n",
      "--- Debug: Error occurred ---\n",
      "Tweet: My @Quora answer to Why do my answers get collapsed when others don't? http://t.co/IKfmEktPCX...\n",
      "Raw Response Decoded: '0; This tweet does not relate to any actual disaster or emergency event; it discusses a user's experience with Quora's collapsed answer feature.'\n",
      "Exception Type: <class 'ValueError'>\n",
      "Exception Args: (\"Expected 2 parts separated by ';' but got 3. Response: '0; This tweet does not relate to any actual disaster or emergency event; it discusses a user's experience with Quora's collapsed answer feature.'\",)\n",
      "Traceback:\n",
      "--- End Debug ---\n"
     ]
    },
    {
     "name": "stderr",
     "output_type": "stream",
     "text": [
      "Classifying:  38%|████████████████████████▎                                       | 578/1523 [13:57<21:23,  1.36s/tweet]Traceback (most recent call last):\n",
      "  File \"/tmp/ipykernel_2751/1298950190.py\", line 160, in main\n",
      "    raise ValueError(f\"Expected 2 parts separated by ';' but got {len(parts)}. Response: '{raw_resp_decoded}'\")\n",
      "ValueError: Expected 2 parts separated by ';' but got 3. Response: '0; This tweet contains a well-known tongue twister and does not represent a real-life disaster or emergency situation; it’s simply a playful phrase.'\n",
      "Classifying:  38%|████████████████████████▎                                       | 579/1523 [13:58<23:00,  1.46s/tweet]"
     ]
    },
    {
     "name": "stdout",
     "output_type": "stream",
     "text": [
      "\n",
      "--- Debug: Error occurred ---\n",
      "Tweet: 'How many men would a human hew if a human could hew men?' -popular tongue twister among woodchucks...\n",
      "Raw Response Decoded: '0; This tweet contains a well-known tongue twister and does not represent a real-life disaster or emergency situation; it’s simply a playful phrase.'\n",
      "Exception Type: <class 'ValueError'>\n",
      "Exception Args: (\"Expected 2 parts separated by ';' but got 3. Response: '0; This tweet contains a well-known tongue twister and does not represent a real-life disaster or emergency situation; it’s simply a playful phrase.'\",)\n",
      "Traceback:\n",
      "--- End Debug ---\n"
     ]
    },
    {
     "name": "stderr",
     "output_type": "stream",
     "text": [
      "Classifying:  39%|█████████████████████████                                       | 596/1523 [14:21<21:28,  1.39s/tweet]Traceback (most recent call last):\n",
      "  File \"/tmp/ipykernel_2751/1298950190.py\", line 160, in main\n",
      "    raise ValueError(f\"Expected 2 parts separated by ';' but got {len(parts)}. Response: '{raw_resp_decoded}'\")\n",
      "ValueError: Expected 2 parts separated by ';' but got 3. Response: '0; This tweet discusses general life experiences and doesn't relate to any actual disaster or emergency situation; it uses disaster-related terms metaphorically to describe personal feelings.'\n",
      "Classifying:  39%|█████████████████████████                                       | 597/1523 [14:23<22:59,  1.49s/tweet]"
     ]
    },
    {
     "name": "stdout",
     "output_type": "stream",
     "text": [
      "\n",
      "--- Debug: Error occurred ---\n",
      "Tweet: But no lies though. It's pays to be the oldest sometimes. Like being the first to get a car and have...\n",
      "Raw Response Decoded: '0; This tweet discusses general life experiences and doesn't relate to any actual disaster or emergency situation; it uses disaster-related terms metaphorically to describe personal feelings.'\n",
      "Exception Type: <class 'ValueError'>\n",
      "Exception Args: (\"Expected 2 parts separated by ';' but got 3. Response: '0; This tweet discusses general life experiences and doesn't relate to any actual disaster or emergency situation; it uses disaster-related terms metaphorically to describe personal feelings.'\",)\n",
      "Traceback:\n",
      "--- End Debug ---\n"
     ]
    },
    {
     "name": "stderr",
     "output_type": "stream",
     "text": [
      "Classifying:  40%|█████████████████████████▎                                      | 602/1523 [14:30<21:11,  1.38s/tweet]Traceback (most recent call last):\n",
      "  File \"/tmp/ipykernel_2751/1298950190.py\", line 160, in main\n",
      "    raise ValueError(f\"Expected 2 parts separated by ';' but got {len(parts)}. Response: '{raw_resp_decoded}'\")\n",
      "ValueError: Expected 2 parts separated by ';' but got 3. Response: '0; This tweet describes extreme diving and doesn't report a real-life disaster or emergency; it's a promotional statement about a diving activity.'\n",
      "Classifying:  40%|█████████████████████████▎                                      | 603/1523 [14:31<21:38,  1.41s/tweet]"
     ]
    },
    {
     "name": "stdout",
     "output_type": "stream",
     "text": [
      "\n",
      "--- Debug: Error occurred ---\n",
      "Tweet: Enter the world of extreme diving ÛÓ 9 stories up and into the Volga River http://t.co/vz19VvgMnv...\n",
      "Raw Response Decoded: '0; This tweet describes extreme diving and doesn't report a real-life disaster or emergency; it's a promotional statement about a diving activity.'\n",
      "Exception Type: <class 'ValueError'>\n",
      "Exception Args: (\"Expected 2 parts separated by ';' but got 3. Response: '0; This tweet describes extreme diving and doesn't report a real-life disaster or emergency; it's a promotional statement about a diving activity.'\",)\n",
      "Traceback:\n",
      "--- End Debug ---\n"
     ]
    },
    {
     "name": "stderr",
     "output_type": "stream",
     "text": [
      "Classifying:  40%|█████████████████████████▊                                      | 613/1523 [14:46<20:07,  1.33s/tweet]Traceback (most recent call last):\n",
      "  File \"/tmp/ipykernel_2751/1298950190.py\", line 160, in main\n",
      "    raise ValueError(f\"Expected 2 parts separated by ';' but got {len(parts)}. Response: '{raw_resp_decoded}'\")\n",
      "ValueError: Expected 2 parts separated by ';' but got 3. Response: '0; This tweet doesn't relate to a disaster event; it describes a personal sensation of burning.'\n",
      "Classifying:  40%|█████████████████████████▊                                      | 614/1523 [14:47<18:45,  1.24s/tweet]"
     ]
    },
    {
     "name": "stdout",
     "output_type": "stream",
     "text": [
      "\n",
      "--- Debug: Error occurred ---\n",
      "Tweet: My hand is burning...\n",
      "Raw Response Decoded: '0; This tweet doesn't relate to a disaster event; it describes a personal sensation of burning.'\n",
      "Exception Type: <class 'ValueError'>\n",
      "Exception Args: (\"Expected 2 parts separated by ';' but got 3. Response: '0; This tweet doesn't relate to a disaster event; it describes a personal sensation of burning.'\",)\n",
      "Traceback:\n",
      "--- End Debug ---\n"
     ]
    },
    {
     "name": "stderr",
     "output_type": "stream",
     "text": [
      "Classifying:  41%|██████████████████████████                                      | 619/1523 [14:54<20:21,  1.35s/tweet]Traceback (most recent call last):\n",
      "  File \"/tmp/ipykernel_2751/1298950190.py\", line 160, in main\n",
      "    raise ValueError(f\"Expected 2 parts separated by ';' but got {len(parts)}. Response: '{raw_resp_decoded}'\")\n",
      "ValueError: Expected 2 parts separated by ';' but got 3. Response: '0; This tweet does not relate to a disaster event; it’s a metaphorical expression about handling conflicts and asserting masculinity.'\n",
      "Classifying:  41%|██████████████████████████                                      | 620/1523 [14:55<20:01,  1.33s/tweet]"
     ]
    },
    {
     "name": "stdout",
     "output_type": "stream",
     "text": [
      "\n",
      "--- Debug: Error occurred ---\n",
      "Tweet: I'm sorry but if you have to resort to weapons to settle something you're a pussy win or lose take y...\n",
      "Raw Response Decoded: '0; This tweet does not relate to a disaster event; it’s a metaphorical expression about handling conflicts and asserting masculinity.'\n",
      "Exception Type: <class 'ValueError'>\n",
      "Exception Args: (\"Expected 2 parts separated by ';' but got 3. Response: '0; This tweet does not relate to a disaster event; it’s a metaphorical expression about handling conflicts and asserting masculinity.'\",)\n",
      "Traceback:\n",
      "--- End Debug ---\n"
     ]
    },
    {
     "name": "stderr",
     "output_type": "stream",
     "text": [
      "Classifying:  42%|██████████████████████████▊                                     | 639/1523 [15:25<23:23,  1.59s/tweet]Traceback (most recent call last):\n",
      "  File \"/tmp/ipykernel_2751/1298950190.py\", line 160, in main\n",
      "    raise ValueError(f\"Expected 2 parts separated by ';' but got {len(parts)}. Response: '{raw_resp_decoded}'\")\n",
      "ValueError: Expected 2 parts separated by ';' but got 3. Response: '0; This tweet discusses a sports game and does not relate to any actual disaster or emergency situation; reasoning'\n",
      "Classifying:  42%|██████████████████████████▉                                     | 640/1523 [15:26<21:21,  1.45s/tweet]"
     ]
    },
    {
     "name": "stdout",
     "output_type": "stream",
     "text": [
      "\n",
      "--- Debug: Error occurred ---\n",
      "Tweet: My prediction for the Vikings game this Sunday....dont expect a whole lot. Infact I think Zimmer goa...\n",
      "Raw Response Decoded: '0; This tweet discusses a sports game and does not relate to any actual disaster or emergency situation; reasoning'\n",
      "Exception Type: <class 'ValueError'>\n",
      "Exception Args: (\"Expected 2 parts separated by ';' but got 3. Response: '0; This tweet discusses a sports game and does not relate to any actual disaster or emergency situation; reasoning'\",)\n",
      "Traceback:\n",
      "--- End Debug ---\n"
     ]
    },
    {
     "name": "stderr",
     "output_type": "stream",
     "text": [
      "Classifying:  43%|███████████████████████████▎                                    | 650/1523 [15:40<19:51,  1.37s/tweet]Traceback (most recent call last):\n",
      "  File \"/tmp/ipykernel_2751/1298950190.py\", line 160, in main\n",
      "    raise ValueError(f\"Expected 2 parts separated by ';' but got {len(parts)}. Response: '{raw_resp_decoded}'\")\n",
      "ValueError: Expected 2 parts separated by ';' but got 3. Response: '0; This tweet discusses family emergency plans but does not report a real-life disaster or crisis; it’s a general inquiry about preparedness.'\n",
      "Classifying:  43%|███████████████████████████▎                                    | 651/1523 [15:42<20:39,  1.42s/tweet]"
     ]
    },
    {
     "name": "stdout",
     "output_type": "stream",
     "text": [
      "\n",
      "--- Debug: Error occurred ---\n",
      "Tweet: Good tips! Does your family have an emergency plan? ... http://t.co/r5BgVLqPJt http://t.co/MEHWKZwtX...\n",
      "Raw Response Decoded: '0; This tweet discusses family emergency plans but does not report a real-life disaster or crisis; it’s a general inquiry about preparedness.'\n",
      "Exception Type: <class 'ValueError'>\n",
      "Exception Args: (\"Expected 2 parts separated by ';' but got 3. Response: '0; This tweet discusses family emergency plans but does not report a real-life disaster or crisis; it’s a general inquiry about preparedness.'\",)\n",
      "Traceback:\n",
      "--- End Debug ---\n"
     ]
    },
    {
     "name": "stderr",
     "output_type": "stream",
     "text": [
      "Classifying:  44%|████████████████████████████▏                                   | 672/1523 [16:11<19:49,  1.40s/tweet]Traceback (most recent call last):\n",
      "  File \"/tmp/ipykernel_2751/1298950190.py\", line 160, in main\n",
      "    raise ValueError(f\"Expected 2 parts separated by ';' but got {len(parts)}. Response: '{raw_resp_decoded}'\")\n",
      "ValueError: Expected 2 parts separated by ';' but got 3. Response: '0; This tweet uses a disaster-related term metaphorically and does not report a real-life emergency or factual news about a disaster;'\n",
      "Classifying:  44%|████████████████████████████▎                                   | 673/1523 [16:13<20:00,  1.41s/tweet]"
     ]
    },
    {
     "name": "stdout",
     "output_type": "stream",
     "text": [
      "\n",
      "--- Debug: Error occurred ---\n",
      "Tweet: If she don't know bout that Pandemonium album #Shestooyoung...\n",
      "Raw Response Decoded: '0; This tweet uses a disaster-related term metaphorically and does not report a real-life emergency or factual news about a disaster;'\n",
      "Exception Type: <class 'ValueError'>\n",
      "Exception Args: (\"Expected 2 parts separated by ';' but got 3. Response: '0; This tweet uses a disaster-related term metaphorically and does not report a real-life emergency or factual news about a disaster;'\",)\n",
      "Traceback:\n",
      "--- End Debug ---\n"
     ]
    },
    {
     "name": "stderr",
     "output_type": "stream",
     "text": [
      "Classifying:  45%|████████████████████████████▋                                   | 684/1523 [16:29<18:41,  1.34s/tweet]Traceback (most recent call last):\n",
      "  File \"/tmp/ipykernel_2751/1298950190.py\", line 160, in main\n",
      "    raise ValueError(f\"Expected 2 parts separated by ';' but got {len(parts)}. Response: '{raw_resp_decoded}'\")\n",
      "ValueError: Expected 2 parts separated by ';' but got 3. Response: '0; This tweet discusses preparing for future emergencies in Vanuatu but does not report an actual disaster or crisis requiring immediate attention; it’s more of a general statement about preparedness.'\n",
      "Classifying:  45%|████████████████████████████▊                                   | 685/1523 [16:30<20:24,  1.46s/tweet]"
     ]
    },
    {
     "name": "stdout",
     "output_type": "stream",
     "text": [
      "\n",
      "--- Debug: Error occurred ---\n",
      "Tweet: Blending the old with the new in #Vanuatu to prepare for future emergencies: http://t.co/aFMKcFn1TL ...\n",
      "Raw Response Decoded: '0; This tweet discusses preparing for future emergencies in Vanuatu but does not report an actual disaster or crisis requiring immediate attention; it’s more of a general statement about preparedness.'\n",
      "Exception Type: <class 'ValueError'>\n",
      "Exception Args: (\"Expected 2 parts separated by ';' but got 3. Response: '0; This tweet discusses preparing for future emergencies in Vanuatu but does not report an actual disaster or crisis requiring immediate attention; it’s more of a general statement about preparedness.'\",)\n",
      "Traceback:\n",
      "--- End Debug ---\n"
     ]
    },
    {
     "name": "stderr",
     "output_type": "stream",
     "text": [
      "Classifying:  47%|██████████████████████████████▎                                 | 722/1523 [17:24<20:05,  1.51s/tweet]Traceback (most recent call last):\n",
      "  File \"/tmp/ipykernel_2751/1298950190.py\", line 160, in main\n",
      "    raise ValueError(f\"Expected 2 parts separated by ';' but got {len(parts)}. Response: '{raw_resp_decoded}'\")\n",
      "ValueError: Expected 2 parts separated by ';' but got 3. Response: '0; This tweet describes a situation with a cat and quarantine, but it does not represent a real-life disaster or emergency requiring attention; it’s a casual anecdote.'\n",
      "Classifying:  47%|██████████████████████████████▍                                 | 723/1523 [17:26<21:01,  1.58s/tweet]"
     ]
    },
    {
     "name": "stdout",
     "output_type": "stream",
     "text": [
      "\n",
      "--- Debug: Error occurred ---\n",
      "Tweet: okay the cat has been quarantined in my bathroom...its meowing really loud but I turned up the TV lo...\n",
      "Raw Response Decoded: '0; This tweet describes a situation with a cat and quarantine, but it does not represent a real-life disaster or emergency requiring attention; it’s a casual anecdote.'\n",
      "Exception Type: <class 'ValueError'>\n",
      "Exception Args: (\"Expected 2 parts separated by ';' but got 3. Response: '0; This tweet describes a situation with a cat and quarantine, but it does not represent a real-life disaster or emergency requiring attention; it’s a casual anecdote.'\",)\n",
      "Traceback:\n",
      "--- End Debug ---\n"
     ]
    },
    {
     "name": "stderr",
     "output_type": "stream",
     "text": [
      "Classifying:  49%|███████████████████████████████▌                                | 752/1523 [18:05<15:57,  1.24s/tweet]Traceback (most recent call last):\n",
      "  File \"/tmp/ipykernel_2751/1298950190.py\", line 160, in main\n",
      "    raise ValueError(f\"Expected 2 parts separated by ';' but got {len(parts)}. Response: '{raw_resp_decoded}'\")\n",
      "ValueError: Expected 2 parts separated by ';' but got 3. Response: '0; This tweet contains irrelevant information and does not relate to any disaster-related events or emergencies; it discusses personal opinions and casual observations.'\n",
      "Classifying:  49%|███████████████████████████████▋                                | 753/1523 [18:07<17:03,  1.33s/tweet]"
     ]
    },
    {
     "name": "stdout",
     "output_type": "stream",
     "text": [
      "\n",
      "--- Debug: Error occurred ---\n",
      "Tweet: Police walk up on me I be blowin smoke in dey face wanna lock me up cus I got dope shit is gay...\n",
      "Raw Response Decoded: '0; This tweet contains irrelevant information and does not relate to any disaster-related events or emergencies; it discusses personal opinions and casual observations.'\n",
      "Exception Type: <class 'ValueError'>\n",
      "Exception Args: (\"Expected 2 parts separated by ';' but got 3. Response: '0; This tweet contains irrelevant information and does not relate to any disaster-related events or emergencies; it discusses personal opinions and casual observations.'\",)\n",
      "Traceback:\n",
      "--- End Debug ---\n"
     ]
    },
    {
     "name": "stderr",
     "output_type": "stream",
     "text": [
      "Classifying:  51%|████████████████████████████████▎                               | 770/1523 [18:30<19:33,  1.56s/tweet]Traceback (most recent call last):\n",
      "  File \"/tmp/ipykernel_2751/1298950190.py\", line 160, in main\n",
      "    raise ValueError(f\"Expected 2 parts separated by ';' but got {len(parts)}. Response: '{raw_resp_decoded}'\")\n",
      "ValueError: Expected 2 parts separated by ';' but got 3. Response: '0; This tweet discusses the potential consequences of spreading misinformation and doesn't report a real-life disaster event or emergency; it’s a commentary on the impact of lies rather than a description of a crisis.'\n",
      "Classifying:  51%|████████████████████████████████▍                               | 771/1523 [18:33<21:33,  1.72s/tweet]"
     ]
    },
    {
     "name": "stdout",
     "output_type": "stream",
     "text": [
      "\n",
      "--- Debug: Error occurred ---\n",
      "Tweet: @Reuters people like you should be charged after the inevitable rioting for contributing to it with ...\n",
      "Raw Response Decoded: '0; This tweet discusses the potential consequences of spreading misinformation and doesn't report a real-life disaster event or emergency; it’s a commentary on the impact of lies rather than a description of a crisis.'\n",
      "Exception Type: <class 'ValueError'>\n",
      "Exception Args: (\"Expected 2 parts separated by ';' but got 3. Response: '0; This tweet discusses the potential consequences of spreading misinformation and doesn't report a real-life disaster event or emergency; it’s a commentary on the impact of lies rather than a description of a crisis.'\",)\n",
      "Traceback:\n",
      "--- End Debug ---\n"
     ]
    },
    {
     "name": "stderr",
     "output_type": "stream",
     "text": [
      "Classifying:  51%|████████████████████████████████▉                               | 783/1523 [18:49<16:37,  1.35s/tweet]Traceback (most recent call last):\n",
      "  File \"/tmp/ipykernel_2751/1298950190.py\", line 160, in main\n",
      "    raise ValueError(f\"Expected 2 parts separated by ';' but got {len(parts)}. Response: '{raw_resp_decoded}'\")\n",
      "ValueError: Expected 2 parts separated by ';' but got 3. Response: '0; This tweet contains references to guns and weapons, which do not inherently indicate a real-life disaster or emergency situation; it’s a metaphorical association rather than a report of an actual event.'\n",
      "Classifying:  51%|████████████████████████████████▉                               | 784/1523 [18:51<18:47,  1.53s/tweet]"
     ]
    },
    {
     "name": "stdout",
     "output_type": "stream",
     "text": [
      "\n",
      "--- Debug: Error occurred ---\n",
      "Tweet: GUN FIREARM WEAPON VECTOR CLIP ART FOR VINYL SIGN CUTTER RIFLE GUNS WEAPONS http://t.co/sdOgEF3kFT h...\n",
      "Raw Response Decoded: '0; This tweet contains references to guns and weapons, which do not inherently indicate a real-life disaster or emergency situation; it’s a metaphorical association rather than a report of an actual event.'\n",
      "Exception Type: <class 'ValueError'>\n",
      "Exception Args: (\"Expected 2 parts separated by ';' but got 3. Response: '0; This tweet contains references to guns and weapons, which do not inherently indicate a real-life disaster or emergency situation; it’s a metaphorical association rather than a report of an actual event.'\",)\n",
      "Traceback:\n",
      "--- End Debug ---\n"
     ]
    },
    {
     "name": "stderr",
     "output_type": "stream",
     "text": [
      "Classifying:  52%|█████████████████████████████████▍                              | 795/1523 [19:08<17:08,  1.41s/tweet]Traceback (most recent call last):\n",
      "  File \"/tmp/ipykernel_2751/1298950190.py\", line 160, in main\n",
      "    raise ValueError(f\"Expected 2 parts separated by ';' but got {len(parts)}. Response: '{raw_resp_decoded}'\")\n",
      "ValueError: Expected 2 parts separated by ';' but got 3. Response: '0; This tweet does not relate to any actual disaster or emergency; it describes a casual mistake involving inappropriate content.'\n",
      "Classifying:  52%|█████████████████████████████████▍                              | 796/1523 [19:09<16:15,  1.34s/tweet]"
     ]
    },
    {
     "name": "stdout",
     "output_type": "stream",
     "text": [
      "\n",
      "--- Debug: Error occurred ---\n",
      "Tweet: I almost sent my coworker nudes on accident thank god for airplane mode...\n",
      "Raw Response Decoded: '0; This tweet does not relate to any actual disaster or emergency; it describes a casual mistake involving inappropriate content.'\n",
      "Exception Type: <class 'ValueError'>\n",
      "Exception Args: (\"Expected 2 parts separated by ';' but got 3. Response: '0; This tweet does not relate to any actual disaster or emergency; it describes a casual mistake involving inappropriate content.'\",)\n",
      "Traceback:\n",
      "--- End Debug ---\n"
     ]
    },
    {
     "name": "stderr",
     "output_type": "stream",
     "text": [
      "Classifying:  54%|██████████████████████████████████▊                             | 828/1523 [19:54<15:58,  1.38s/tweet]Traceback (most recent call last):\n",
      "  File \"/tmp/ipykernel_2751/1298950190.py\", line 160, in main\n",
      "    raise ValueError(f\"Expected 2 parts separated by ';' but got {len(parts)}. Response: '{raw_resp_decoded}'\")\n",
      "ValueError: Expected 2 parts separated by ';' but got 3. Response: '0; This tweet references a specific case involving police and a video recording, but it doesn't describe an actual emergency or disaster event requiring immediate attention; it's more of a commentary or reference.'\n",
      "Classifying:  54%|██████████████████████████████████▊                             | 829/1523 [19:56<19:06,  1.65s/tweet]"
     ]
    },
    {
     "name": "stdout",
     "output_type": "stream",
     "text": [
      "\n",
      "--- Debug: Error occurred ---\n",
      "Tweet: Interesting approach but doesn't replace Eyewitness video. The Ferguson Case - Video - http://t.co/v...\n",
      "Raw Response Decoded: '0; This tweet references a specific case involving police and a video recording, but it doesn't describe an actual emergency or disaster event requiring immediate attention; it's more of a commentary or reference.'\n",
      "Exception Type: <class 'ValueError'>\n",
      "Exception Args: (\"Expected 2 parts separated by ';' but got 3. Response: '0; This tweet references a specific case involving police and a video recording, but it doesn't describe an actual emergency or disaster event requiring immediate attention; it's more of a commentary or reference.'\",)\n",
      "Traceback:\n",
      "--- End Debug ---\n"
     ]
    },
    {
     "name": "stderr",
     "output_type": "stream",
     "text": [
      "Classifying:  54%|██████████████████████████████████▉                             | 830/1523 [19:58<17:53,  1.55s/tweet]Traceback (most recent call last):\n",
      "  File \"/tmp/ipykernel_2751/1298950190.py\", line 160, in main\n",
      "    raise ValueError(f\"Expected 2 parts separated by ';' but got {len(parts)}. Response: '{raw_resp_decoded}'\")\n",
      "ValueError: Expected 2 parts separated by ';' but got 3. Response: '0; This tweet expresses an opposition to nuclear weapons, but it does not report a real-life disaster or emergency; it’s a metaphorical statement.'\n",
      "Classifying:  55%|██████████████████████████████████▉                             | 831/1523 [19:59<18:38,  1.62s/tweet]"
     ]
    },
    {
     "name": "stdout",
     "output_type": "stream",
     "text": [
      "\n",
      "--- Debug: Error occurred ---\n",
      "Tweet: I will adamantly opposed to nuclear weapons....\n",
      "Raw Response Decoded: '0; This tweet expresses an opposition to nuclear weapons, but it does not report a real-life disaster or emergency; it’s a metaphorical statement.'\n",
      "Exception Type: <class 'ValueError'>\n",
      "Exception Args: (\"Expected 2 parts separated by ';' but got 3. Response: '0; This tweet expresses an opposition to nuclear weapons, but it does not report a real-life disaster or emergency; it’s a metaphorical statement.'\",)\n",
      "Traceback:\n",
      "--- End Debug ---\n"
     ]
    },
    {
     "name": "stderr",
     "output_type": "stream",
     "text": [
      "Classifying:  60%|██████████████████████████████████████▎                         | 913/1523 [21:55<14:56,  1.47s/tweet]Traceback (most recent call last):\n",
      "  File \"/tmp/ipykernel_2751/1298950190.py\", line 160, in main\n",
      "    raise ValueError(f\"Expected 2 parts separated by ';' but got {len(parts)}. Response: '{raw_resp_decoded}'\")\n",
      "ValueError: Expected 2 parts separated by ';' but got 3. Response: '0; This tweet does not relate to any actual disaster or emergency; it’s a metaphorical comment about consumerism and style.'\n",
      "Classifying:  60%|██████████████████████████████████████▍                         | 914/1523 [21:57<14:42,  1.45s/tweet]"
     ]
    },
    {
     "name": "stdout",
     "output_type": "stream",
     "text": [
      "\n",
      "--- Debug: Error occurred ---\n",
      "Tweet: Bruh white people buy the ugliest shoes and they them super tight no blood going to there feet...\n",
      "Raw Response Decoded: '0; This tweet does not relate to any actual disaster or emergency; it’s a metaphorical comment about consumerism and style.'\n",
      "Exception Type: <class 'ValueError'>\n",
      "Exception Args: (\"Expected 2 parts separated by ';' but got 3. Response: '0; This tweet does not relate to any actual disaster or emergency; it’s a metaphorical comment about consumerism and style.'\",)\n",
      "Traceback:\n",
      "--- End Debug ---\n"
     ]
    },
    {
     "name": "stderr",
     "output_type": "stream",
     "text": [
      "Classifying:  60%|██████████████████████████████████████▋                         | 920/1523 [22:06<15:48,  1.57s/tweet]Traceback (most recent call last):\n",
      "  File \"/tmp/ipykernel_2751/1298950190.py\", line 160, in main\n",
      "    raise ValueError(f\"Expected 2 parts separated by ';' but got {len(parts)}. Response: '{raw_resp_decoded}'\")\n",
      "ValueError: Expected 2 parts separated by ';' but got 3. Response: '0; This tweet does not relate to any disaster-related event; it appears to be a casual mention and not a report of an emergency.'\n",
      "Classifying:  60%|██████████████████████████████████████▋                         | 921/1523 [22:07<15:27,  1.54s/tweet]"
     ]
    },
    {
     "name": "stdout",
     "output_type": "stream",
     "text": [
      "\n",
      "--- Debug: Error occurred ---\n",
      "Tweet: More than a crush ???????????? WCE @nykaeD_ ?????????? http://t.co/mkJO8x2dKo...\n",
      "Raw Response Decoded: '0; This tweet does not relate to any disaster-related event; it appears to be a casual mention and not a report of an emergency.'\n",
      "Exception Type: <class 'ValueError'>\n",
      "Exception Args: (\"Expected 2 parts separated by ';' but got 3. Response: '0; This tweet does not relate to any disaster-related event; it appears to be a casual mention and not a report of an emergency.'\",)\n",
      "Traceback:\n",
      "--- End Debug ---\n"
     ]
    },
    {
     "name": "stderr",
     "output_type": "stream",
     "text": [
      "Classifying:  61%|██████████████████████████████████████▊                         | 925/1523 [22:14<17:10,  1.72s/tweet]Traceback (most recent call last):\n",
      "  File \"/tmp/ipykernel_2751/1298950190.py\", line 160, in main\n",
      "    raise ValueError(f\"Expected 2 parts separated by ';' but got {len(parts)}. Response: '{raw_resp_decoded}'\")\n",
      "ValueError: Expected 2 parts separated by ';' but got 3. Response: '0; This tweet expresses violent and nihilistic sentiments without indicating a real-life emergency or disaster; it’s a metaphorical expression of destruction.'\n",
      "Classifying:  61%|██████████████████████████████████████▉                         | 926/1523 [22:16<16:46,  1.69s/tweet]"
     ]
    },
    {
     "name": "stdout",
     "output_type": "stream",
     "text": [
      "\n",
      "--- Debug: Error occurred ---\n",
      "Tweet: (To Luka) 'They should all die! All of them! Everything annihilated!' - Alois Trancy -...\n",
      "Raw Response Decoded: '0; This tweet expresses violent and nihilistic sentiments without indicating a real-life emergency or disaster; it’s a metaphorical expression of destruction.'\n",
      "Exception Type: <class 'ValueError'>\n",
      "Exception Args: (\"Expected 2 parts separated by ';' but got 3. Response: '0; This tweet expresses violent and nihilistic sentiments without indicating a real-life emergency or disaster; it’s a metaphorical expression of destruction.'\",)\n",
      "Traceback:\n",
      "--- End Debug ---\n"
     ]
    },
    {
     "name": "stderr",
     "output_type": "stream",
     "text": [
      "Classifying:  62%|███████████████████████████████████████▊                        | 948/1523 [22:48<13:47,  1.44s/tweet]Traceback (most recent call last):\n",
      "  File \"/tmp/ipykernel_2751/1298950190.py\", line 160, in main\n",
      "    raise ValueError(f\"Expected 2 parts separated by ';' but got {len(parts)}. Response: '{raw_resp_decoded}'\")\n",
      "ValueError: Expected 2 parts separated by ';' but got 3. Response: '1; This tweet references the music video for a band, using terms related to an avalanche, but it’s not reporting a real-life disaster event; it’s a metaphorical reference within a music video context.'\n",
      "Classifying:  62%|███████████████████████████████████████▉                        | 949/1523 [22:50<16:43,  1.75s/tweet]"
     ]
    },
    {
     "name": "stdout",
     "output_type": "stream",
     "text": [
      "\n",
      "--- Debug: Error occurred ---\n",
      "Tweet: What a feat! Watch the #BTS of @kallemattson's incredible music video for #Avalanche: https://t.co/3...\n",
      "Raw Response Decoded: '1; This tweet references the music video for a band, using terms related to an avalanche, but it’s not reporting a real-life disaster event; it’s a metaphorical reference within a music video context.'\n",
      "Exception Type: <class 'ValueError'>\n",
      "Exception Args: (\"Expected 2 parts separated by ';' but got 3. Response: '1; This tweet references the music video for a band, using terms related to an avalanche, but it’s not reporting a real-life disaster event; it’s a metaphorical reference within a music video context.'\",)\n",
      "Traceback:\n",
      "--- End Debug ---\n"
     ]
    },
    {
     "name": "stderr",
     "output_type": "stream",
     "text": [
      "Classifying:  63%|████████████████████████████████████████▎                       | 959/1523 [23:06<14:16,  1.52s/tweet]Traceback (most recent call last):\n",
      "  File \"/tmp/ipykernel_2751/1298950190.py\", line 160, in main\n",
      "    raise ValueError(f\"Expected 2 parts separated by ';' but got {len(parts)}. Response: '{raw_resp_decoded}'\")\n",
      "ValueError: Expected 2 parts separated by ';' but got 3. Response: '0; This tweet expresses a hypothetical scenario and does not report a real-life disaster or emergency; it’s a reflection on personal experience and observation.'\n",
      "Classifying:  63%|████████████████████████████████████████▎                       | 960/1523 [23:08<14:36,  1.56s/tweet]"
     ]
    },
    {
     "name": "stdout",
     "output_type": "stream",
     "text": [
      "\n",
      "--- Debug: Error occurred ---\n",
      "Tweet: If you told me ten years ago that I'd be seeing anime on the big screen... ...I probably would have ...\n",
      "Raw Response Decoded: '0; This tweet expresses a hypothetical scenario and does not report a real-life disaster or emergency; it’s a reflection on personal experience and observation.'\n",
      "Exception Type: <class 'ValueError'>\n",
      "Exception Args: (\"Expected 2 parts separated by ';' but got 3. Response: '0; This tweet expresses a hypothetical scenario and does not report a real-life disaster or emergency; it’s a reflection on personal experience and observation.'\",)\n",
      "Traceback:\n",
      "--- End Debug ---\n"
     ]
    },
    {
     "name": "stderr",
     "output_type": "stream",
     "text": [
      "Classifying:  63%|████████████████████████████████████████▌                       | 965/1523 [23:14<12:49,  1.38s/tweet]Traceback (most recent call last):\n",
      "  File \"/tmp/ipykernel_2751/1298950190.py\", line 160, in main\n",
      "    raise ValueError(f\"Expected 2 parts separated by ';' but got {len(parts)}. Response: '{raw_resp_decoded}'\")\n",
      "ValueError: Expected 2 parts separated by ';' but got 3. Response: '0; This tweet does not relate to a disaster event; it expresses personal feelings of devastation.'\n",
      "Classifying:  63%|████████████████████████████████████████▌                       | 966/1523 [23:15<11:47,  1.27s/tweet]"
     ]
    },
    {
     "name": "stdout",
     "output_type": "stream",
     "text": [
      "\n",
      "--- Debug: Error occurred ---\n",
      "Tweet: Emotionally I am destroyed...\n",
      "Raw Response Decoded: '0; This tweet does not relate to a disaster event; it expresses personal feelings of devastation.'\n",
      "Exception Type: <class 'ValueError'>\n",
      "Exception Args: (\"Expected 2 parts separated by ';' but got 3. Response: '0; This tweet does not relate to a disaster event; it expresses personal feelings of devastation.'\",)\n",
      "Traceback:\n",
      "--- End Debug ---\n"
     ]
    },
    {
     "name": "stderr",
     "output_type": "stream",
     "text": [
      "Classifying:  65%|█████████████████████████████████████████▎                      | 984/1523 [23:41<12:27,  1.39s/tweet]Traceback (most recent call last):\n",
      "  File \"/tmp/ipykernel_2751/1298950190.py\", line 160, in main\n",
      "    raise ValueError(f\"Expected 2 parts separated by ';' but got {len(parts)}. Response: '{raw_resp_decoded}'\")\n",
      "ValueError: Expected 2 parts separated by ';' but got 3. Response: '0; This tweet contains irrelevant terms and does not relate to any actual disaster or emergency situation; it appears to be a random sequence of words.'\n",
      "Classifying:  65%|█████████████████████████████████████████▍                      | 985/1523 [23:43<12:40,  1.41s/tweet]"
     ]
    },
    {
     "name": "stdout",
     "output_type": "stream",
     "text": [
      "\n",
      "--- Debug: Error occurred ---\n",
      "Tweet: World Class Tgirl Ass 02 - Scene 4 - Pandemonium http://t.co/iwCu3DgI1a...\n",
      "Raw Response Decoded: '0; This tweet contains irrelevant terms and does not relate to any actual disaster or emergency situation; it appears to be a random sequence of words.'\n",
      "Exception Type: <class 'ValueError'>\n",
      "Exception Args: (\"Expected 2 parts separated by ';' but got 3. Response: '0; This tweet contains irrelevant terms and does not relate to any actual disaster or emergency situation; it appears to be a random sequence of words.'\",)\n",
      "Traceback:\n",
      "--- End Debug ---\n"
     ]
    },
    {
     "name": "stderr",
     "output_type": "stream",
     "text": [
      "Classifying:  67%|██████████████████████████████████████████▏                    | 1020/1523 [24:32<11:49,  1.41s/tweet]Traceback (most recent call last):\n",
      "  File \"/tmp/ipykernel_2751/1298950190.py\", line 160, in main\n",
      "    raise ValueError(f\"Expected 2 parts separated by ';' but got {len(parts)}. Response: '{raw_resp_decoded}'\")\n",
      "ValueError: Expected 2 parts separated by ';' but got 3. Response: '0; This tweet uses disaster-related terminology metaphorically and does not report a real-life emergency or factual news about a disaster; it’s a casual comment about a different kind of extreme.'\n",
      "Classifying:  67%|██████████████████████████████████████████▏                    | 1021/1523 [24:34<13:28,  1.61s/tweet]"
     ]
    },
    {
     "name": "stdout",
     "output_type": "stream",
     "text": [
      "\n",
      "--- Debug: Error occurred ---\n",
      "Tweet: Okay maybe not as extreme as thunder and lightning but pretty much all other types! #FIFA16 https://...\n",
      "Raw Response Decoded: '0; This tweet uses disaster-related terminology metaphorically and does not report a real-life emergency or factual news about a disaster; it’s a casual comment about a different kind of extreme.'\n",
      "Exception Type: <class 'ValueError'>\n",
      "Exception Args: (\"Expected 2 parts separated by ';' but got 3. Response: '0; This tweet uses disaster-related terminology metaphorically and does not report a real-life emergency or factual news about a disaster; it’s a casual comment about a different kind of extreme.'\",)\n",
      "Traceback:\n",
      "--- End Debug ---\n"
     ]
    },
    {
     "name": "stderr",
     "output_type": "stream",
     "text": [
      "Classifying:  70%|████████████████████████████████████████████                   | 1066/1523 [25:42<12:12,  1.60s/tweet]Traceback (most recent call last):\n",
      "  File \"/tmp/ipykernel_2751/1298950190.py\", line 160, in main\n",
      "    raise ValueError(f\"Expected 2 parts separated by ';' but got {len(parts)}. Response: '{raw_resp_decoded}'\")\n",
      "ValueError: Expected 2 parts separated by ';' but got 3. Response: '0; This tweet uses vague terms and doesn’t clearly indicate a real-life disaster event requiring attention; it’s likely a casual mention.'\n",
      "Classifying:  70%|████████████████████████████████████████████▏                  | 1067/1523 [25:44<12:10,  1.60s/tweet]"
     ]
    },
    {
     "name": "stdout",
     "output_type": "stream",
     "text": [
      "\n",
      "--- Debug: Error occurred ---\n",
      "Tweet: smoke whatever you got...\n",
      "Raw Response Decoded: '0; This tweet uses vague terms and doesn’t clearly indicate a real-life disaster event requiring attention; it’s likely a casual mention.'\n",
      "Exception Type: <class 'ValueError'>\n",
      "Exception Args: (\"Expected 2 parts separated by ';' but got 3. Response: '0; This tweet uses vague terms and doesn’t clearly indicate a real-life disaster event requiring attention; it’s likely a casual mention.'\",)\n",
      "Traceback:\n",
      "--- End Debug ---\n"
     ]
    },
    {
     "name": "stderr",
     "output_type": "stream",
     "text": [
      "Classifying:  70%|████████████████████████████████████████████▎                  | 1072/1523 [25:50<10:47,  1.44s/tweet]Traceback (most recent call last):\n",
      "  File \"/tmp/ipykernel_2751/1298950190.py\", line 160, in main\n",
      "    raise ValueError(f\"Expected 2 parts separated by ';' but got {len(parts)}. Response: '{raw_resp_decoded}'\")\n",
      "ValueError: Expected 2 parts separated by ';' but got 3. Response: '0; This tweet uses \"desolation\" metaphorically and does not report a real-life emergency or disaster; it's simply a descriptive statement.'\n",
      "Classifying:  70%|████████████████████████████████████████████▍                  | 1073/1523 [25:52<11:43,  1.56s/tweet]"
     ]
    },
    {
     "name": "stdout",
     "output_type": "stream",
     "text": [
      "\n",
      "--- Debug: Error occurred ---\n",
      "Tweet: RT kurtkamka: Beautiful desolation. Just me a couple of coyotes some lizards and the morning sun. #P...\n",
      "Raw Response Decoded: '0; This tweet uses \"desolation\" metaphorically and does not report a real-life emergency or disaster; it's simply a descriptive statement.'\n",
      "Exception Type: <class 'ValueError'>\n",
      "Exception Args: ('Expected 2 parts separated by \\';\\' but got 3. Response: \\'0; This tweet uses \"desolation\" metaphorically and does not report a real-life emergency or disaster; it\\'s simply a descriptive statement.\\'',)\n",
      "Traceback:\n",
      "--- End Debug ---\n"
     ]
    },
    {
     "name": "stderr",
     "output_type": "stream",
     "text": [
      "Classifying:  71%|████████████████████████████████████████████▍                  | 1074/1523 [25:54<11:18,  1.51s/tweet]Traceback (most recent call last):\n",
      "  File \"/tmp/ipykernel_2751/1298950190.py\", line 160, in main\n",
      "    raise ValueError(f\"Expected 2 parts separated by ';' but got {len(parts)}. Response: '{raw_resp_decoded}'\")\n",
      "ValueError: Expected 2 parts separated by ';' but got 3. Response: '0; This tweet uses disaster-related terms metaphorically and doesn't indicate a real-life emergency or factual news about a disaster; it's a casual expression of indifference.'\n",
      "Classifying:  71%|████████████████████████████████████████████▍                  | 1075/1523 [25:56<12:31,  1.68s/tweet]"
     ]
    },
    {
     "name": "stdout",
     "output_type": "stream",
     "text": [
      "\n",
      "--- Debug: Error occurred ---\n",
      "Tweet: Stay tuned or don't idc #casualties http://t.co/nssjPR6Pdd...\n",
      "Raw Response Decoded: '0; This tweet uses disaster-related terms metaphorically and doesn't indicate a real-life emergency or factual news about a disaster; it's a casual expression of indifference.'\n",
      "Exception Type: <class 'ValueError'>\n",
      "Exception Args: (\"Expected 2 parts separated by ';' but got 3. Response: '0; This tweet uses disaster-related terms metaphorically and doesn't indicate a real-life emergency or factual news about a disaster; it's a casual expression of indifference.'\",)\n",
      "Traceback:\n",
      "--- End Debug ---\n"
     ]
    },
    {
     "name": "stderr",
     "output_type": "stream",
     "text": [
      "Classifying:  71%|████████████████████████████████████████████▋                  | 1079/1523 [26:02<11:08,  1.51s/tweet]Traceback (most recent call last):\n",
      "  File \"/tmp/ipykernel_2751/1298950190.py\", line 160, in main\n",
      "    raise ValueError(f\"Expected 2 parts separated by ';' but got {len(parts)}. Response: '{raw_resp_decoded}'\")\n",
      "ValueError: Expected 2 parts separated by ';' but got 3. Response: '0; This tweet is promotional and does not relate to any actual disaster or emergency event; it’s simply announcing a movie release.'\n",
      "Classifying:  71%|████████████████████████████████████████████▋                  | 1080/1523 [26:03<10:50,  1.47s/tweet]"
     ]
    },
    {
     "name": "stdout",
     "output_type": "stream",
     "text": [
      "\n",
      "--- Debug: Error occurred ---\n",
      "Tweet: Natalie Stavola our co-star explains her role in Love and Hostages. Check it out! #LH_movie #indiefi...\n",
      "Raw Response Decoded: '0; This tweet is promotional and does not relate to any actual disaster or emergency event; it’s simply announcing a movie release.'\n",
      "Exception Type: <class 'ValueError'>\n",
      "Exception Args: (\"Expected 2 parts separated by ';' but got 3. Response: '0; This tweet is promotional and does not relate to any actual disaster or emergency event; it’s simply announcing a movie release.'\",)\n",
      "Traceback:\n",
      "--- End Debug ---\n"
     ]
    },
    {
     "name": "stderr",
     "output_type": "stream",
     "text": [
      "Classifying:  73%|█████████████████████████████████████████████▉                 | 1112/1523 [26:49<10:20,  1.51s/tweet]Traceback (most recent call last):\n",
      "  File \"/tmp/ipykernel_2751/1298950190.py\", line 160, in main\n",
      "    raise ValueError(f\"Expected 2 parts separated by ';' but got {len(parts)}. Response: '{raw_resp_decoded}'\")\n",
      "ValueError: Expected 2 parts separated by ';' but got 3. Response: '0; This tweet uses a morbid term related to disasters but doesn't describe an actual emergency or event requiring attention; it’s simply a reference to a grim reality.'\n",
      "Classifying:  73%|██████████████████████████████████████████████                 | 1113/1523 [26:51<10:44,  1.57s/tweet]"
     ]
    },
    {
     "name": "stdout",
     "output_type": "stream",
     "text": [
      "\n",
      "--- Debug: Error occurred ---\n",
      "Tweet: @baskgod body bags...\n",
      "Raw Response Decoded: '0; This tweet uses a morbid term related to disasters but doesn't describe an actual emergency or event requiring attention; it’s simply a reference to a grim reality.'\n",
      "Exception Type: <class 'ValueError'>\n",
      "Exception Args: (\"Expected 2 parts separated by ';' but got 3. Response: '0; This tweet uses a morbid term related to disasters but doesn't describe an actual emergency or event requiring attention; it’s simply a reference to a grim reality.'\",)\n",
      "Traceback:\n",
      "--- End Debug ---\n"
     ]
    },
    {
     "name": "stderr",
     "output_type": "stream",
     "text": [
      "Classifying:  74%|██████████████████████████████████████████████▎                | 1120/1523 [27:02<10:26,  1.56s/tweet]Traceback (most recent call last):\n",
      "  File \"/tmp/ipykernel_2751/1298950190.py\", line 160, in main\n",
      "    raise ValueError(f\"Expected 2 parts separated by ';' but got {len(parts)}. Response: '{raw_resp_decoded}'\")\n",
      "ValueError: Expected 2 parts separated by ';' but got 3. Response: '0; This tweet uses disaster-related terminology metaphorically and does not indicate a real-life emergency or crisis; it's a humorous statement about personal finances.'\n",
      "Classifying:  74%|██████████████████████████████████████████████▎                | 1121/1523 [27:04<10:35,  1.58s/tweet]"
     ]
    },
    {
     "name": "stdout",
     "output_type": "stream",
     "text": [
      "\n",
      "--- Debug: Error occurred ---\n",
      "Tweet: @RohnertParkDPS You're another one for the history books! (Thank the Justice Department!) And by the...\n",
      "Raw Response Decoded: '0; This tweet uses disaster-related terminology metaphorically and does not indicate a real-life emergency or crisis; it's a humorous statement about personal finances.'\n",
      "Exception Type: <class 'ValueError'>\n",
      "Exception Args: (\"Expected 2 parts separated by ';' but got 3. Response: '0; This tweet uses disaster-related terminology metaphorically and does not indicate a real-life emergency or crisis; it's a humorous statement about personal finances.'\",)\n",
      "Traceback:\n",
      "--- End Debug ---\n"
     ]
    },
    {
     "name": "stderr",
     "output_type": "stream",
     "text": [
      "Classifying:  76%|███████████████████████████████████████████████▊               | 1156/1523 [27:54<09:05,  1.49s/tweet]Traceback (most recent call last):\n",
      "  File \"/tmp/ipykernel_2751/1298950190.py\", line 160, in main\n",
      "    raise ValueError(f\"Expected 2 parts separated by ';' but got {len(parts)}. Response: '{raw_resp_decoded}'\")\n",
      "ValueError: Expected 2 parts separated by ';' but got 3. Response: '0; This tweet contains a song title which is not related to a real-life disaster event; it's a metaphorical reference.'\n",
      "Classifying:  76%|███████████████████████████████████████████████▊               | 1157/1523 [27:55<09:12,  1.51s/tweet]"
     ]
    },
    {
     "name": "stdout",
     "output_type": "stream",
     "text": [
      "\n",
      "--- Debug: Error occurred ---\n",
      "Tweet: Review: Dude Bro Party Massacre III http://t.co/f0WQlobOoy by Patrick BromleyThe title sa http://t.c...\n",
      "Raw Response Decoded: '0; This tweet contains a song title which is not related to a real-life disaster event; it's a metaphorical reference.'\n",
      "Exception Type: <class 'ValueError'>\n",
      "Exception Args: (\"Expected 2 parts separated by ';' but got 3. Response: '0; This tweet contains a song title which is not related to a real-life disaster event; it's a metaphorical reference.'\",)\n",
      "Traceback:\n",
      "--- End Debug ---\n"
     ]
    },
    {
     "name": "stderr",
     "output_type": "stream",
     "text": [
      "Traceback (most recent call last):\n",
      "  File \"/tmp/ipykernel_2751/1298950190.py\", line 160, in main\n",
      "    raise ValueError(f\"Expected 2 parts separated by ';' but got {len(parts)}. Response: '{raw_resp_decoded}'\")\n",
      "ValueError: Expected 2 parts separated by ';' but got 3. Response: '0; This tweet does not report a real-life disaster or emergency; it’s a request for book bloggers and exposure regarding a book.'\n",
      "Classifying:  76%|███████████████████████████████████████████████▉               | 1158/1523 [27:57<09:05,  1.50s/tweet]"
     ]
    },
    {
     "name": "stdout",
     "output_type": "stream",
     "text": [
      "\n",
      "--- Debug: Error occurred ---\n",
      "Tweet: Hello Twitter i need some book bloggers and interviews regarding my book Weapons Formed Against Me #...\n",
      "Raw Response Decoded: '0; This tweet does not report a real-life disaster or emergency; it’s a request for book bloggers and exposure regarding a book.'\n",
      "Exception Type: <class 'ValueError'>\n",
      "Exception Args: (\"Expected 2 parts separated by ';' but got 3. Response: '0; This tweet does not report a real-life disaster or emergency; it’s a request for book bloggers and exposure regarding a book.'\",)\n",
      "Traceback:\n",
      "--- End Debug ---\n"
     ]
    },
    {
     "name": "stderr",
     "output_type": "stream",
     "text": [
      "Classifying:  78%|█████████████████████████████████████████████████              | 1185/1523 [28:37<08:41,  1.54s/tweet]Traceback (most recent call last):\n",
      "  File \"/tmp/ipykernel_2751/1298950190.py\", line 160, in main\n",
      "    raise ValueError(f\"Expected 2 parts separated by ';' but got {len(parts)}. Response: '{raw_resp_decoded}'\")\n",
      "ValueError: Expected 2 parts separated by ';' but got 3. Response: '0; This tweet does not relate to any actual disaster or emergency; it discusses a video playlist and a game modification.'\n",
      "Classifying:  78%|█████████████████████████████████████████████████              | 1186/1523 [28:38<08:22,  1.49s/tweet]"
     ]
    },
    {
     "name": "stdout",
     "output_type": "stream",
     "text": [
      "\n",
      "--- Debug: Error occurred ---\n",
      "Tweet: I added a video to a @YouTube playlist http://t.co/wedWyn9kfS World Of Tanks - Battle Assistant Mod ...\n",
      "Raw Response Decoded: '0; This tweet does not relate to any actual disaster or emergency; it discusses a video playlist and a game modification.'\n",
      "Exception Type: <class 'ValueError'>\n",
      "Exception Args: (\"Expected 2 parts separated by ';' but got 3. Response: '0; This tweet does not relate to any actual disaster or emergency; it discusses a video playlist and a game modification.'\",)\n",
      "Traceback:\n",
      "--- End Debug ---\n"
     ]
    },
    {
     "name": "stderr",
     "output_type": "stream",
     "text": [
      "Classifying:  79%|█████████████████████████████████████████████████▊             | 1203/1523 [29:04<07:48,  1.46s/tweet]Traceback (most recent call last):\n",
      "  File \"/tmp/ipykernel_2751/1298950190.py\", line 160, in main\n",
      "    raise ValueError(f\"Expected 2 parts separated by ';' but got {len(parts)}. Response: '{raw_resp_decoded}'\")\n",
      "ValueError: Expected 2 parts separated by ';' but got 3. Response: '0; This tweet does not relate to a disaster or emergency; it’s simply a statement about exercise and calorie expenditure.'\n",
      "Classifying:  79%|█████████████████████████████████████████████████▊             | 1204/1523 [29:05<07:42,  1.45s/tweet]"
     ]
    },
    {
     "name": "stdout",
     "output_type": "stream",
     "text": [
      "\n",
      "--- Debug: Error occurred ---\n",
      "Tweet: I spent 15 minutes lifting weights. 43 calories burned. #LoseIt...\n",
      "Raw Response Decoded: '0; This tweet does not relate to a disaster or emergency; it’s simply a statement about exercise and calorie expenditure.'\n",
      "Exception Type: <class 'ValueError'>\n",
      "Exception Args: (\"Expected 2 parts separated by ';' but got 3. Response: '0; This tweet does not relate to a disaster or emergency; it’s simply a statement about exercise and calorie expenditure.'\",)\n",
      "Traceback:\n",
      "--- End Debug ---\n"
     ]
    },
    {
     "name": "stderr",
     "output_type": "stream",
     "text": [
      "Classifying:  81%|██████████████████████████████████████████████████▉            | 1231/1523 [29:44<06:51,  1.41s/tweet]Traceback (most recent call last):\n",
      "  File \"/tmp/ipykernel_2751/1298950190.py\", line 160, in main\n",
      "    raise ValueError(f\"Expected 2 parts separated by ';' but got {len(parts)}. Response: '{raw_resp_decoded}'\")\n",
      "ValueError: Expected 2 parts separated by ';' but got 3. Response: '0; This tweet does not relate to any disaster or emergency; it simply expresses a personal schedule for school.'\n",
      "Classifying:  81%|██████████████████████████████████████████████████▉            | 1232/1523 [29:45<06:21,  1.31s/tweet]"
     ]
    },
    {
     "name": "stdout",
     "output_type": "stream",
     "text": [
      "\n",
      "--- Debug: Error occurred ---\n",
      "Tweet: has NOT sunk in that i leave for school in a month...\n",
      "Raw Response Decoded: '0; This tweet does not relate to any disaster or emergency; it simply expresses a personal schedule for school.'\n",
      "Exception Type: <class 'ValueError'>\n",
      "Exception Args: (\"Expected 2 parts separated by ';' but got 3. Response: '0; This tweet does not relate to any disaster or emergency; it simply expresses a personal schedule for school.'\",)\n",
      "Traceback:\n",
      "--- End Debug ---\n"
     ]
    },
    {
     "name": "stderr",
     "output_type": "stream",
     "text": [
      "Classifying:  84%|█████████████████████████████████████████████████████          | 1284/1523 [30:59<05:37,  1.41s/tweet]Traceback (most recent call last):\n",
      "  File \"/tmp/ipykernel_2751/1298950190.py\", line 160, in main\n",
      "    raise ValueError(f\"Expected 2 parts separated by ';' but got {len(parts)}. Response: '{raw_resp_decoded}'\")\n",
      "ValueError: Expected 2 parts separated by ';' but got 3. Response: '0; This tweet doesn't relate to a disaster event; it's simply announcing the completion of a factory project.'\n",
      "Classifying:  84%|█████████████████████████████████████████████████████▏         | 1285/1523 [31:00<05:27,  1.37s/tweet]"
     ]
    },
    {
     "name": "stdout",
     "output_type": "stream",
     "text": [
      "\n",
      "--- Debug: Error occurred ---\n",
      "Tweet: Fear Factory in December. Done deal....\n",
      "Raw Response Decoded: '0; This tweet doesn't relate to a disaster event; it's simply announcing the completion of a factory project.'\n",
      "Exception Type: <class 'ValueError'>\n",
      "Exception Args: (\"Expected 2 parts separated by ';' but got 3. Response: '0; This tweet doesn't relate to a disaster event; it's simply announcing the completion of a factory project.'\",)\n",
      "Traceback:\n",
      "--- End Debug ---\n"
     ]
    },
    {
     "name": "stderr",
     "output_type": "stream",
     "text": [
      "Classifying:  85%|█████████████████████████████████████████████████████▌         | 1294/1523 [31:14<05:28,  1.44s/tweet]Traceback (most recent call last):\n",
      "  File \"/tmp/ipykernel_2751/1298950190.py\", line 160, in main\n",
      "    raise ValueError(f\"Expected 2 parts separated by ';' but got {len(parts)}. Response: '{raw_resp_decoded}'\")\n",
      "ValueError: Expected 2 parts separated by ';' but got 3. Response: '0; This tweet does not relate to any disaster or emergency; it discusses relationships and trust.'\n",
      "Classifying:  85%|█████████████████████████████████████████████████████▌         | 1295/1523 [31:15<04:53,  1.29s/tweet]"
     ]
    },
    {
     "name": "stdout",
     "output_type": "stream",
     "text": [
      "\n",
      "--- Debug: Error occurred ---\n",
      "Tweet: @Luzukokoti it's all about understanding umntu wakho. If you do and trust your partner then y OK u w...\n",
      "Raw Response Decoded: '0; This tweet does not relate to any disaster or emergency; it discusses relationships and trust.'\n",
      "Exception Type: <class 'ValueError'>\n",
      "Exception Args: (\"Expected 2 parts separated by ';' but got 3. Response: '0; This tweet does not relate to any disaster or emergency; it discusses relationships and trust.'\",)\n",
      "Traceback:\n",
      "--- End Debug ---\n"
     ]
    },
    {
     "name": "stderr",
     "output_type": "stream",
     "text": [
      "Classifying:  85%|█████████████████████████████████████████████████████▋         | 1298/1523 [31:19<05:11,  1.39s/tweet]Traceback (most recent call last):\n",
      "  File \"/tmp/ipykernel_2751/1298950190.py\", line 160, in main\n",
      "    raise ValueError(f\"Expected 2 parts separated by ';' but got {len(parts)}. Response: '{raw_resp_decoded}'\")\n",
      "ValueError: Expected 2 parts separated by ';' but got 3. Response: '0; This tweet discusses online communities and Reddit, but it doesn't relate to any actual disaster or emergency situation; it’s about a change in quarantine policies for offensive content.'\n",
      "Classifying:  85%|█████████████████████████████████████████████████████▋         | 1299/1523 [31:21<05:47,  1.55s/tweet]"
     ]
    },
    {
     "name": "stdout",
     "output_type": "stream",
     "text": [
      "\n",
      "--- Debug: Error occurred ---\n",
      "Tweet: Reddit Will Now Quarantine OffensiveÛ_ http://t.co/wjWYJBncat #onlinecommunities #reddit #amageddon...\n",
      "Raw Response Decoded: '0; This tweet discusses online communities and Reddit, but it doesn't relate to any actual disaster or emergency situation; it’s about a change in quarantine policies for offensive content.'\n",
      "Exception Type: <class 'ValueError'>\n",
      "Exception Args: (\"Expected 2 parts separated by ';' but got 3. Response: '0; This tweet discusses online communities and Reddit, but it doesn't relate to any actual disaster or emergency situation; it’s about a change in quarantine policies for offensive content.'\",)\n",
      "Traceback:\n",
      "--- End Debug ---\n"
     ]
    },
    {
     "name": "stderr",
     "output_type": "stream",
     "text": [
      "Classifying:  86%|██████████████████████████████████████████████████████▍        | 1315/1523 [31:42<04:39,  1.35s/tweet]Traceback (most recent call last):\n",
      "  File \"/tmp/ipykernel_2751/1298950190.py\", line 160, in main\n",
      "    raise ValueError(f\"Expected 2 parts separated by ';' but got {len(parts)}. Response: '{raw_resp_decoded}'\")\n",
      "ValueError: Expected 2 parts separated by ';' but got 3. Response: '0; This tweet describes a near-collision incident involving women, but it does not report a real-life disaster or emergency requiring attention; it’s a simple observation about a traffic event.'\n",
      "Classifying:  86%|██████████████████████████████████████████████████████▍        | 1316/1523 [31:44<05:18,  1.54s/tweet]"
     ]
    },
    {
     "name": "stdout",
     "output_type": "stream",
     "text": [
      "\n",
      "--- Debug: Error occurred ---\n",
      "Tweet: Stupid women nearly collided into me today after she came out of a junction not looking. Still kept ...\n",
      "Raw Response Decoded: '0; This tweet describes a near-collision incident involving women, but it does not report a real-life disaster or emergency requiring attention; it’s a simple observation about a traffic event.'\n",
      "Exception Type: <class 'ValueError'>\n",
      "Exception Args: (\"Expected 2 parts separated by ';' but got 3. Response: '0; This tweet describes a near-collision incident involving women, but it does not report a real-life disaster or emergency requiring attention; it’s a simple observation about a traffic event.'\",)\n",
      "Traceback:\n",
      "--- End Debug ---\n"
     ]
    },
    {
     "name": "stderr",
     "output_type": "stream",
     "text": [
      "Classifying:  89%|████████████████████████████████████████████████████████▏      | 1359/1523 [32:43<04:20,  1.59s/tweet]Traceback (most recent call last):\n",
      "  File \"/tmp/ipykernel_2751/1298950190.py\", line 160, in main\n",
      "    raise ValueError(f\"Expected 2 parts separated by ';' but got {len(parts)}. Response: '{raw_resp_decoded}'\")\n",
      "ValueError: Expected 2 parts separated by ';' but got 3. Response: '0; This tweet discusses rear-collision technology and doesn't report a real-life disaster or emergency; it's a promotional statement about a technology feature.'\n",
      "Classifying:  89%|████████████████████████████████████████████████████████▎      | 1360/1523 [32:45<04:19,  1.59s/tweet]"
     ]
    },
    {
     "name": "stdout",
     "output_type": "stream",
     "text": [
      "\n",
      "--- Debug: Error occurred ---\n",
      "Tweet: Anti Collision Rear- #technology #cool http://t.co/hK6nQrGedb...\n",
      "Raw Response Decoded: '0; This tweet discusses rear-collision technology and doesn't report a real-life disaster or emergency; it's a promotional statement about a technology feature.'\n",
      "Exception Type: <class 'ValueError'>\n",
      "Exception Args: (\"Expected 2 parts separated by ';' but got 3. Response: '0; This tweet discusses rear-collision technology and doesn't report a real-life disaster or emergency; it's a promotional statement about a technology feature.'\",)\n",
      "Traceback:\n",
      "--- End Debug ---\n"
     ]
    },
    {
     "name": "stderr",
     "output_type": "stream",
     "text": [
      "Traceback (most recent call last):\n",
      "  File \"/tmp/ipykernel_2751/1298950190.py\", line 160, in main\n",
      "    raise ValueError(f\"Expected 2 parts separated by ';' but got {len(parts)}. Response: '{raw_resp_decoded}'\")\n",
      "ValueError: Expected 2 parts separated by ';' but got 3. Response: '0; This tweet discusses a petition to protect bees, which is not directly related to a disaster event or emergency requiring immediate attention; it’s a metaphorical plea for conservation.'\n",
      "Classifying:  89%|████████████████████████████████████████████████████████▎      | 1361/1523 [32:47<04:35,  1.70s/tweet]"
     ]
    },
    {
     "name": "stdout",
     "output_type": "stream",
     "text": [
      "\n",
      "--- Debug: Error occurred ---\n",
      "Tweet: Sign the petition @david_cameron to protect bees instead of toxic chemical companies want to harm th...\n",
      "Raw Response Decoded: '0; This tweet discusses a petition to protect bees, which is not directly related to a disaster event or emergency requiring immediate attention; it’s a metaphorical plea for conservation.'\n",
      "Exception Type: <class 'ValueError'>\n",
      "Exception Args: (\"Expected 2 parts separated by ';' but got 3. Response: '0; This tweet discusses a petition to protect bees, which is not directly related to a disaster event or emergency requiring immediate attention; it’s a metaphorical plea for conservation.'\",)\n",
      "Traceback:\n",
      "--- End Debug ---\n"
     ]
    },
    {
     "name": "stderr",
     "output_type": "stream",
     "text": [
      "Classifying:  91%|█████████████████████████████████████████████████████████▎     | 1385/1523 [33:21<03:13,  1.40s/tweet]Traceback (most recent call last):\n",
      "  File \"/tmp/ipykernel_2751/1298950190.py\", line 160, in main\n",
      "    raise ValueError(f\"Expected 2 parts separated by ';' but got {len(parts)}. Response: '{raw_resp_decoded}'\")\n",
      "ValueError: Expected 2 parts separated by ';' but got 3. Response: '0; This tweet does not relate to any actual disaster or emergency; it's a humorous expression about personal feelings.'\n",
      "Classifying:  91%|█████████████████████████████████████████████████████████▎     | 1386/1523 [33:22<03:09,  1.38s/tweet]"
     ]
    },
    {
     "name": "stdout",
     "output_type": "stream",
     "text": [
      "\n",
      "--- Debug: Error occurred ---\n",
      "Tweet: Me trying to look cute wen crush is passing by ... http://t.co/Z87zMi3Ozs...\n",
      "Raw Response Decoded: '0; This tweet does not relate to any actual disaster or emergency; it's a humorous expression about personal feelings.'\n",
      "Exception Type: <class 'ValueError'>\n",
      "Exception Args: (\"Expected 2 parts separated by ';' but got 3. Response: '0; This tweet does not relate to any actual disaster or emergency; it's a humorous expression about personal feelings.'\",)\n",
      "Traceback:\n",
      "--- End Debug ---\n"
     ]
    },
    {
     "name": "stderr",
     "output_type": "stream",
     "text": [
      "Classifying:  92%|█████████████████████████████████████████████████████████▉     | 1400/1523 [33:43<03:13,  1.58s/tweet]Traceback (most recent call last):\n",
      "  File \"/tmp/ipykernel_2751/1298950190.py\", line 160, in main\n",
      "    raise ValueError(f\"Expected 2 parts separated by ';' but got {len(parts)}. Response: '{raw_resp_decoded}'\")\n",
      "ValueError: Expected 2 parts separated by ';' but got 3. Response: '0; This tweet uses \"StreetjamzDotNet\" and \"mR9KcGpIwM\" which are not related to a disaster event; it’s likely a promotional link or unrelated website mention.'\n",
      "Classifying:  92%|█████████████████████████████████████████████████████████▉     | 1401/1523 [33:45<03:34,  1.76s/tweet]"
     ]
    },
    {
     "name": "stdout",
     "output_type": "stream",
     "text": [
      "\n",
      "--- Debug: Error occurred ---\n",
      "Tweet: (SJ GIST): 148 Houses Farm Produce Destroy... http://t.co/dkrGS2AWEX #StreetjamzDotNet | https://t.c...\n",
      "Raw Response Decoded: '0; This tweet uses \"StreetjamzDotNet\" and \"mR9KcGpIwM\" which are not related to a disaster event; it’s likely a promotional link or unrelated website mention.'\n",
      "Exception Type: <class 'ValueError'>\n",
      "Exception Args: ('Expected 2 parts separated by \\';\\' but got 3. Response: \\'0; This tweet uses \"StreetjamzDotNet\" and \"mR9KcGpIwM\" which are not related to a disaster event; it’s likely a promotional link or unrelated website mention.\\'',)\n",
      "Traceback:\n",
      "--- End Debug ---\n"
     ]
    },
    {
     "name": "stderr",
     "output_type": "stream",
     "text": [
      "Classifying:  93%|██████████████████████████████████████████████████████████▋    | 1418/1523 [34:09<02:36,  1.49s/tweet]Traceback (most recent call last):\n",
      "  File \"/tmp/ipykernel_2751/1298950190.py\", line 160, in main\n",
      "    raise ValueError(f\"Expected 2 parts separated by ';' but got {len(parts)}. Response: '{raw_resp_decoded}'\")\n",
      "ValueError: Expected 2 parts separated by ';' but got 3. Response: '0; This tweet uses disaster-related terminology metaphorically and does not indicate a real-life emergency or crisis; it’s a casual conversation about crushes and relationships.'\n",
      "Classifying:  93%|██████████████████████████████████████████████████████████▋    | 1419/1523 [34:11<02:43,  1.57s/tweet]"
     ]
    },
    {
     "name": "stdout",
     "output_type": "stream",
     "text": [
      "\n",
      "--- Debug: Error occurred ---\n",
      "Tweet: do he love me do he love me not I ain't a playa I just crush a lot...\n",
      "Raw Response Decoded: '0; This tweet uses disaster-related terminology metaphorically and does not indicate a real-life emergency or crisis; it’s a casual conversation about crushes and relationships.'\n",
      "Exception Type: <class 'ValueError'>\n",
      "Exception Args: (\"Expected 2 parts separated by ';' but got 3. Response: '0; This tweet uses disaster-related terminology metaphorically and does not indicate a real-life emergency or crisis; it’s a casual conversation about crushes and relationships.'\",)\n",
      "Traceback:\n",
      "--- End Debug ---\n"
     ]
    },
    {
     "name": "stderr",
     "output_type": "stream",
     "text": [
      "Classifying:  98%|█████████████████████████████████████████████████████████████▉ | 1498/1523 [36:03<00:36,  1.45s/tweet]Traceback (most recent call last):\n",
      "  File \"/tmp/ipykernel_2751/1298950190.py\", line 160, in main\n",
      "    raise ValueError(f\"Expected 2 parts separated by ';' but got {len(parts)}. Response: '{raw_resp_decoded}'\")\n",
      "ValueError: Expected 2 parts separated by ';' but got 3. Response: '0; This tweet does not relate to any actual disaster or emergency; it’s a metaphorical statement about releasing a mixtape.'\n",
      "Classifying:  98%|██████████████████████████████████████████████████████████████ | 1499/1523 [36:05<00:34,  1.42s/tweet]"
     ]
    },
    {
     "name": "stdout",
     "output_type": "stream",
     "text": [
      "\n",
      "--- Debug: Error occurred ---\n",
      "Tweet: The mixtape is coming i promise. We goin in right now http://t.co/uUNGRqoUgn...\n",
      "Raw Response Decoded: '0; This tweet does not relate to any actual disaster or emergency; it’s a metaphorical statement about releasing a mixtape.'\n",
      "Exception Type: <class 'ValueError'>\n",
      "Exception Args: (\"Expected 2 parts separated by ';' but got 3. Response: '0; This tweet does not relate to any actual disaster or emergency; it’s a metaphorical statement about releasing a mixtape.'\",)\n",
      "Traceback:\n",
      "--- End Debug ---\n"
     ]
    },
    {
     "name": "stderr",
     "output_type": "stream",
     "text": [
      "Classifying:  99%|██████████████████████████████████████████████████████████████▌| 1513/1523 [36:24<00:14,  1.47s/tweet]Traceback (most recent call last):\n",
      "  File \"/tmp/ipykernel_2751/1298950190.py\", line 160, in main\n",
      "    raise ValueError(f\"Expected 2 parts separated by ';' but got {len(parts)}. Response: '{raw_resp_decoded}'\")\n",
      "ValueError: Expected 2 parts separated by ';' but got 3. Response: '0; This tweet does not contain any information related to a disaster or emergency; it is simply a question about a missing object.'\n",
      "Classifying:  99%|██████████████████████████████████████████████████████████████▋| 1514/1523 [36:26<00:12,  1.43s/tweet]"
     ]
    },
    {
     "name": "stdout",
     "output_type": "stream",
     "text": [
      "\n",
      "--- Debug: Error occurred ---\n",
      "Tweet: 'wHeRE's mY aRsOnISt aT???'...\n",
      "Raw Response Decoded: '0; This tweet does not contain any information related to a disaster or emergency; it is simply a question about a missing object.'\n",
      "Exception Type: <class 'ValueError'>\n",
      "Exception Args: (\"Expected 2 parts separated by ';' but got 3. Response: '0; This tweet does not contain any information related to a disaster or emergency; it is simply a question about a missing object.'\",)\n",
      "Traceback:\n",
      "--- End Debug ---\n"
     ]
    },
    {
     "name": "stderr",
     "output_type": "stream",
     "text": [
      "Classifying: 100%|███████████████████████████████████████████████████████████████| 1523/1523 [36:39<00:00,  1.44s/tweet]\n"
     ]
    },
    {
     "name": "stdout",
     "output_type": "stream",
     "text": [
      "\n",
      "Detailed results saved to finetuned_model_results/output_train_with_GPT_details.csv and finetuned_model_results/output_train_with_GPT_details.json\n",
      "\n",
      "=== Classification Metrics ===\n",
      "\n",
      "Confusion Matrix:\n",
      "          Predicted 0  Predicted 1\n",
      "Actual 0          608          212\n",
      "Actual 1          129          506\n",
      "\n",
      "Classification Report:\n",
      "                          precision    recall  f1-score   support\n",
      "\n",
      "Not Disaster-Related (0)     0.8250    0.7415    0.7810       820\n",
      "    Disaster-Related (1)     0.7047    0.7969    0.7480       635\n",
      "\n",
      "                accuracy                         0.7656      1455\n",
      "               macro avg     0.7649    0.7692    0.7645      1455\n",
      "            weighted avg     0.7725    0.7656    0.7666      1455\n",
      "\n",
      "\n",
      "Evaluation complete. Check 'finetuned_model_results/' for detailed results.\n",
      "\n",
      "Cleaning up GPU memory...\n",
      "Cleanup complete.\n"
     ]
    }
   ],
   "source": [
    "import os\n",
    "import re\n",
    "import json\n",
    "import pandas as pd\n",
    "from tqdm import tqdm\n",
    "import torch\n",
    "import gc\n",
    "import sys\n",
    "import traceback\n",
    "\n",
    "# --- Unsloth/Transformers Imports ---\n",
    "from unsloth import FastLanguageModel\n",
    "# from transformers import TextStreamer # Not needed for this version\n",
    "from unsloth.chat_templates import get_chat_template\n",
    "\n",
    "# --- Scikit-learn Metrics Imports ---\n",
    "from sklearn.metrics import (\n",
    "    confusion_matrix,\n",
    "    classification_report,\n",
    "    accuracy_score\n",
    ")\n",
    "\n",
    "# --- Configuration ---\n",
    "# <<< *** SET THIS TO YOUR SAVED ADAPTER DIRECTORY *** >>>\n",
    "FINETUNED_MODEL_DIR = \"gemma3_train_with_GPT4.1\"\n",
    "# <<< Path to your test CSV (must have 'text' and 'labels' columns) >>>\n",
    "INPUT_CSV = \"../data/test.csv\"\n",
    "# <<< Output directory and filename prefix for results >>>\n",
    "OUTPUT_DIR = \"finetuned_model_results\" # Changed directory name\n",
    "RESULTS_FILENAME = \"output_train_with_GPT\" # Changed filename prefix\n",
    "\n",
    "# --- Helper Functions ---\n",
    "def fix_tweet_text(tweet: str) -> str:\n",
    "    \"\"\"Clean up tweets by removing extra whitespace.\"\"\"\n",
    "    if not isinstance(tweet, str):\n",
    "        tweet = str(tweet)\n",
    "    return re.sub(r'\\s+', ' ', tweet).strip()\n",
    "\n",
    "# --- Main Execution ---\n",
    "def main():\n",
    "    # 1. Load the Fine-Tuned Model and Tokenizer\n",
    "    print(f\"Loading fine-tuned model from: {FINETUNED_MODEL_DIR}\")\n",
    "    try:\n",
    "        model, tokenizer = FastLanguageModel.from_pretrained(\n",
    "            model_name = FINETUNED_MODEL_DIR,\n",
    "            max_seq_length = 2048,\n",
    "            load_in_4bit = True,\n",
    "            load_in_8bit = False,\n",
    "            dtype = None,\n",
    "            device_map = \"auto\",\n",
    "        )\n",
    "        print(\"Model loaded successfully.\")\n",
    "\n",
    "        print(\"Applying chat template to tokenizer...\")\n",
    "        tokenizer = get_chat_template(tokenizer, chat_template=\"gemma-3\")\n",
    "        print(\"Tokenizer ready.\")\n",
    "\n",
    "    except Exception as e:\n",
    "        print(f\"\\n--- ERROR DURING MODEL LOADING ---\"); print(f\"Error message: {e}\")\n",
    "        print(f\"\\nEnsure the directory '{FINETUNED_MODEL_DIR}' exists and contains valid adapter files.\")\n",
    "        print(\"Check VRAM availability (nvidia-smi).\"); traceback.print_exc(); sys.exit(1)\n",
    "\n",
    "    # 2. Load Test Data\n",
    "    try:\n",
    "        test_df = pd.read_csv(INPUT_CSV)\n",
    "        if 'text' not in test_df.columns or 'labels' not in test_df.columns:\n",
    "            raise ValueError(\"CSV must contain 'text' and 'labels' columns.\")\n",
    "        print(f\"Loaded {len(test_df)} tweets from {INPUT_CSV}\")\n",
    "    except FileNotFoundError: print(f\"Error: Input file not found at {INPUT_CSV}\"); return\n",
    "    except Exception as e: print(f\"Error loading CSV: {e}\"); return\n",
    "\n",
    "    # 3. Prepare Output Directory\n",
    "    os.makedirs(OUTPUT_DIR, exist_ok=True)\n",
    "\n",
    "    # 4. Process Tweets and Collect Results using Fine-tuned Model\n",
    "    results_data = []\n",
    "    all_actual_labels = []\n",
    "    all_predicted_labels = []\n",
    "\n",
    "    inference_instruction = \"\"\"    I am a researcher interested in studying disaster response events. My goal is to analyze historical tweets to better understand responses to various types of disasters.\n",
    "\n",
    "Each tweet I receive includes a disaster-related keyword or hashtag, but not all tweets describe an actual disaster event. I need a model to classify tweets into two categories based on whether they are truly disaster-related:\n",
    "1 - Disaster-Related (tweets that report actual emergencies, accidents, crises, or factual news about such events requiring attention).\n",
    "0 - Not Disaster-Related (tweets that use disaster-related terms metaphorically, humorously, or in other non-emergency contexts).\n",
    "\n",
    "Consider these guidelines for classification:\n",
    "- Tweets reporting actual emergencies, accidents, or crises (such as natural disasters, transportation accidents, industrial incidents, or health emergencies) should be classified as 1.\n",
    "- Factual news reports about any actual disaster or accident should be classified as 1.\n",
    "- Tweets using disaster-related terminology metaphorically, humorously, or in a non-urgent manner should be classified as 0.\n",
    "- Jokes, memes, or casual mentions that do not indicate real-life emergencies should be classified as 0.\n",
    "\n",
    "Please return the classification (0 or 1) followed by a brief reasoning for your decision. These two parts—classification and reasoning—should be returned in one line, separated by a single semicolon (;).\n",
    "\n",
    "For example:\n",
    "1; This tweet mentions rescue efforts and evacuation details following a reported flood.\n",
    "\n",
    "Please return your answer in this exact format:\n",
    "classification; reasoning\n",
    "where classification is either 0 or 1, and reasoning is a short explanation.\n",
    "\n",
    "Important: When you write the reasoning, do not use any semicolons (;) within the reasoning text itself, as your answer will be processed by a script expecting only one semicolon separator in the entire line.\n",
    "\n",
    "\n",
    "Tweet: \"\"\"\n",
    "\n",
    "    print(f\"\\n=== Classifying tweets using fine-tuned model from {FINETUNED_MODEL_DIR} ===\")\n",
    "    model.eval()\n",
    "\n",
    "    for _, row in tqdm(test_df.iterrows(), total=len(test_df), desc=\"Classifying\", unit=\"tweet\"):\n",
    "        tweet = row['text']\n",
    "        try:\n",
    "            actual_label = int(row['labels'])\n",
    "            if actual_label not in [0, 1]: raise ValueError(\"Actual label must be 0 or 1\")\n",
    "        except (ValueError, TypeError) as e:\n",
    "            print(f\"\\nSkipping row due to invalid actual label: {row['labels']} ({e}). Tweet: {str(tweet)[:50]}...\")\n",
    "            results_data.append({\"tweet\": fix_tweet_text(tweet), \"predicted_label\": \"error\", \"reasoning\": \"\", \"actual_label\": row['labels'], \"raw_response\": \"\", \"error\": f\"Invalid actual label: {e}\"})\n",
    "            continue\n",
    "\n",
    "        tweet_clean = fix_tweet_text(tweet)\n",
    "        pred_label_parsed = \"error\"\n",
    "        reasoning_parsed = \"\"\n",
    "        raw_resp_decoded = \"\"\n",
    "        error_msg = None\n",
    "\n",
    "        try:\n",
    "            user_content = f\"{inference_instruction}{tweet_clean}\"\n",
    "\n",
    "            # --- **** MESSAGE STRUCTURE CHANGE HERE **** ---\n",
    "            messages = [\n",
    "                {\n",
    "                    \"role\": \"user\",\n",
    "                    \"content\": [ # Content is now a list...\n",
    "                        {\"type\": \"text\", \"text\": user_content} # ...containing a dictionary for the text block\n",
    "                    ]\n",
    "                }\n",
    "            ]\n",
    "            # --- **** END MESSAGE STRUCTURE CHANGE **** ---\n",
    "\n",
    "            inputs = tokenizer.apply_chat_template(\n",
    "                messages, tokenize = True, add_generation_prompt = True, return_tensors = \"pt\",\n",
    "            ).to(\"cuda\" if torch.cuda.is_available() else \"cpu\")\n",
    "\n",
    "            with torch.no_grad():\n",
    "                 outputs = model.generate(\n",
    "                    input_ids = inputs, max_new_tokens = 75, do_sample = False,\n",
    "                    pad_token_id = tokenizer.eos_token_id\n",
    "                )\n",
    "\n",
    "            input_length = inputs.shape[1]\n",
    "            generated_ids = outputs[0][input_length:]\n",
    "            raw_resp_decoded = tokenizer.decode(generated_ids, skip_special_tokens=True).strip()\n",
    "\n",
    "            parts = raw_resp_decoded.split(\";\")\n",
    "            parts = [p.strip() for p in parts]\n",
    "\n",
    "            if len(parts) != 2:\n",
    "                if parts and parts[0].lower() == 'error': # Check if parts is not empty before indexing\n",
    "                      raise ValueError(f\"Ollama API or internal error: {parts[1] if len(parts)>1 else raw_resp_decoded}\")\n",
    "                else:\n",
    "                      raise ValueError(f\"Expected 2 parts separated by ';' but got {len(parts)}. Response: '{raw_resp_decoded}'\")\n",
    "\n",
    "            pred_label_parsed = int(parts[0])\n",
    "            if pred_label_parsed not in [0, 1]:\n",
    "                raise ValueError(f\"Predicted label must be 0 or 1, but got {pred_label_parsed}\")\n",
    "\n",
    "            reasoning_parsed = parts[1]\n",
    "\n",
    "            all_actual_labels.append(actual_label)\n",
    "            all_predicted_labels.append(pred_label_parsed)\n",
    "\n",
    "        except Exception as e:\n",
    "            error_msg = f\"Inference or Parsing error: {e}\"\n",
    "            # --- Adding detailed debug from previous step (Optional but helpful) ---\n",
    "            print(f\"\\n--- Debug: Error occurred ---\")\n",
    "            print(f\"Tweet: {tweet_clean[:100]}...\")\n",
    "            print(f\"Raw Response Decoded: '{raw_resp_decoded}'\")\n",
    "            print(f\"Exception Type: {type(e)}\")\n",
    "            print(f\"Exception Args: {e.args}\")\n",
    "            print(\"Traceback:\")\n",
    "            traceback.print_exc()\n",
    "            print(f\"--- End Debug ---\")\n",
    "            # --- End detailed debugging ---\n",
    "\n",
    "        results_data.append({\n",
    "            \"tweet\": tweet_clean, \"predicted_label\": pred_label_parsed, \"reasoning\": reasoning_parsed,\n",
    "            \"actual_label\": actual_label, \"raw_response\": raw_resp_decoded, \"error\": error_msg\n",
    "        })\n",
    "\n",
    "    # 5. Save detailed results\n",
    "    results_df = pd.DataFrame(results_data)\n",
    "    csv_path = os.path.join(OUTPUT_DIR, f\"{RESULTS_FILENAME}_details.csv\")\n",
    "    json_path = os.path.join(OUTPUT_DIR, f\"{RESULTS_FILENAME}_details.json\")\n",
    "    try:\n",
    "        results_df.to_csv(csv_path, index=False)\n",
    "        results_df.to_json(json_path, orient='records', indent=2)\n",
    "        print(f\"\\nDetailed results saved to {csv_path} and {json_path}\")\n",
    "    except Exception as e: print(f\"Error saving detailed results: {e}\")\n",
    "\n",
    "    # 6. Calculate and Print Metrics\n",
    "    print(\"\\n=== Classification Metrics ===\")\n",
    "    if not all_actual_labels:\n",
    "        print(\"No valid predictions were successfully processed. Cannot calculate metrics.\")\n",
    "        del model, tokenizer; gc.collect(); torch.cuda.empty_cache() if torch.cuda.is_available() else None; return\n",
    "\n",
    "    try:\n",
    "        all_actual_labels_int = [int(l) for l in all_actual_labels]\n",
    "        all_predicted_labels_int = [int(l) for l in all_predicted_labels]\n",
    "    except ValueError:\n",
    "        print(\"Error: Could not convert all labels to integers for metric calculation.\")\n",
    "        del model, tokenizer; gc.collect(); torch.cuda.empty_cache() if torch.cuda.is_available() else None; return\n",
    "\n",
    "    # -- Confusion Matrix --\n",
    "    print(\"\\nConfusion Matrix:\")\n",
    "    try:\n",
    "        cm = confusion_matrix(all_actual_labels_int, all_predicted_labels_int, labels=[0, 1]) # Ensure labels are 0, 1\n",
    "        print(pd.DataFrame(cm, index=['Actual 0', 'Actual 1'], columns=['Predicted 0', 'Predicted 1']))\n",
    "    except Exception as e: print(f\"Error calculating/displaying Confusion Matrix: {e}\")\n",
    "\n",
    "    # -- Classification Report --\n",
    "    print(\"\\nClassification Report:\")\n",
    "    try:\n",
    "        report = classification_report(\n",
    "            all_actual_labels_int, all_predicted_labels_int,\n",
    "            labels = [0, 1], # Ensure labels are 0, 1\n",
    "            target_names=['Not Disaster-Related (0)', 'Disaster-Related (1)'],\n",
    "            digits=4, zero_division=0\n",
    "        )\n",
    "        print(report)\n",
    "    except Exception as e: print(f\"Error calculating Classification Report: {e}\")\n",
    "\n",
    "    print(f\"\\nEvaluation complete. Check '{OUTPUT_DIR}/' for detailed results.\")\n",
    "\n",
    "    # Optional: Clean up model from memory at the very end\n",
    "    print(\"\\nCleaning up GPU memory...\")\n",
    "    del model, tokenizer; gc.collect()\n",
    "    if torch.cuda.is_available(): torch.cuda.empty_cache()\n",
    "    print(\"Cleanup complete.\")\n",
    "\n",
    "if __name__ == \"__main__\":\n",
    "    main()"
   ]
  },
  {
   "cell_type": "code",
   "execution_count": null,
   "id": "b82a9012-e85d-43be-813e-34abe4bb5226",
   "metadata": {},
   "outputs": [],
   "source": []
  }
 ],
 "metadata": {
  "kernelspec": {
   "display_name": "Python 3 (ipykernel)",
   "language": "python",
   "name": "python3"
  },
  "language_info": {
   "codemirror_mode": {
    "name": "ipython",
    "version": 3
   },
   "file_extension": ".py",
   "mimetype": "text/x-python",
   "name": "python",
   "nbconvert_exporter": "python",
   "pygments_lexer": "ipython3",
   "version": "3.12.7"
  }
 },
 "nbformat": 4,
 "nbformat_minor": 5
}
