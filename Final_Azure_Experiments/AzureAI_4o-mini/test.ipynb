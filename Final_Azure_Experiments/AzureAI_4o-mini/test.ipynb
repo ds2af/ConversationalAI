{
 "cells": [
  {
   "cell_type": "code",
   "execution_count": 7,
   "id": "e29a0872-936a-432a-a3dd-da0733e8368a",
   "metadata": {},
   "outputs": [
    {
     "name": "stdout",
     "output_type": "stream",
     "text": [
      "Found 2 BERT misclassifications that failed in Azure.\n",
      "Saved only-BERT error tweets to AzureAI_4o-mini_only_bert_error_tweets.csv\n"
     ]
    }
   ],
   "source": [
    "import pandas as pd\n",
    "import numpy as np\n",
    "import matplotlib.pyplot as plt\n",
    "import os\n",
    "\n",
    "# 1. Setup paths\n",
    "current_dir       = os.path.basename(os.path.dirname(os.path.abspath(\"*\")))\n",
    "bert_path         = os.path.join('..', 'BERT_misclassified_tweets.csv')\n",
    "azure_path        = os.path.join(f'{current_dir}_misclassified_tweets.csv')\n",
    "error_tweets_path = os.path.join(f'{current_dir}_error_tweets.csv')\n",
    "\n",
    "# 2. Load data\n",
    "bert_df   = pd.read_csv(bert_path)\n",
    "azure_df  = pd.read_csv(azure_path)\n",
    "errors    = pd.read_csv(error_tweets_path)\n",
    "\n",
    "# 3. Normalize columns\n",
    "azure_df = azure_df.rename(columns={\n",
    "    'Original full Tweet': 'text',\n",
    "    'True label':          'true_label',\n",
    "    'Predicted label':     'predicted_label'\n",
    "})\n",
    "errors = errors.rename(columns={\n",
    "    'Original tweet':    'text',\n",
    "    'True class':        'true_label_error',\n",
    "    'Violation reasons': 'error_reason',\n",
    "    'Severity label':    'severity_label'\n",
    "})\n",
    "\n",
    "# 4. Filter to misclassifications\n",
    "bert_df   = bert_df[bert_df['predicted_label']  != bert_df['true_label']]\n",
    "azure_df  = azure_df[azure_df['predicted_label'] != azure_df['true_label']]\n",
    "\n",
    "# 5. Identify only-BERT misclassifications\n",
    "only_bert = bert_df[~bert_df['text'].isin(azure_df['text'])].copy()\n",
    "\n",
    "# 6. Find overlap with error tweets\n",
    "error_only_bert = only_bert.merge(\n",
    "    errors[['text','true_label_error','error_reason','severity_label']],\n",
    "    on='text', how='inner'\n",
    ")\n",
    "\n",
    "# 7. Conditional message if no overlap\n",
    "if error_only_bert.empty:\n",
    "    print(\"No common tweets between BERT misclassifications and Azure error tweets.\")\n",
    "else:\n",
    "    print(f\"Found {len(error_only_bert)} BERT misclassifications that failed in Azure.\")\n",
    "\n",
    "# 8. Detailed error-tweet analysis\n",
    "# a) Save the subset\n",
    "err_csv = os.path.join(f'{current_dir}_only_bert_error_tweets.csv')\n",
    "error_only_bert[['text','true_label_error','error_reason','severity_label']].to_csv(err_csv, index=False)\n",
    "print(f\"Saved only-BERT error tweets to {err_csv}\")\n",
    "\n"
   ]
  },
  {
   "cell_type": "code",
   "execution_count": null,
   "id": "04267c60-2baf-4329-a68c-86b17e3a9d32",
   "metadata": {},
   "outputs": [],
   "source": []
  }
 ],
 "metadata": {
  "kernelspec": {
   "display_name": "Python 3 (ipykernel)",
   "language": "python",
   "name": "python3"
  },
  "language_info": {
   "codemirror_mode": {
    "name": "ipython",
    "version": 3
   },
   "file_extension": ".py",
   "mimetype": "text/x-python",
   "name": "python",
   "nbconvert_exporter": "python",
   "pygments_lexer": "ipython3",
   "version": "3.12.8"
  }
 },
 "nbformat": 4,
 "nbformat_minor": 5
}
