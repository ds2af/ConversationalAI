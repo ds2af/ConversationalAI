{
 "cells": [
  {
   "cell_type": "code",
   "execution_count": 8,
   "id": "aa0f46ea-876e-4f11-8c14-bca37fc62dc7",
   "metadata": {},
   "outputs": [
    {
     "name": "stdout",
     "output_type": "stream",
     "text": [
      "Filtered 78 tweets with avg_confidence > 80%\n"
     ]
    }
   ],
   "source": [
    "import pandas as pd\n",
    "import ast\n",
    "from pathlib import Path\n",
    "\n",
    "def parse_confidence(cell):\n",
    "    \"\"\"\n",
    "    Convert a stringified list like \"[0.75, 0.85, '0.80', ...]\" into a list of floats.\n",
    "    Ignores any unparseable entries.\n",
    "    \"\"\"\n",
    "    try:\n",
    "        raw = ast.literal_eval(cell)\n",
    "    except (ValueError, SyntaxError):\n",
    "        return []\n",
    "    floats = []\n",
    "    for x in raw:\n",
    "        try:\n",
    "            floats.append(float(x))\n",
    "        except:\n",
    "            # If it's a malformed string like \"2. 0.85\", try taking the last token\n",
    "            if isinstance(x, str):\n",
    "                parts = x.replace(',', '').split()\n",
    "                try:\n",
    "                    floats.append(float(parts[-1]))\n",
    "                except:\n",
    "                    pass\n",
    "    return floats\n",
    "\n",
    "def filter_high_confidence(input_csv, output_csv, threshold=0.8):\n",
    "    # Load\n",
    "    df = pd.read_csv(input_csv)\n",
    "    \n",
    "    # Parse & average\n",
    "    df['conf_list'] = df['confidence'].apply(parse_confidence)\n",
    "    df['avg_confidence'] = df['conf_list'].apply(\n",
    "        lambda lst: sum(lst)/len(lst) if lst else 0\n",
    "    )\n",
    "    \n",
    "    # Filter\n",
    "    high_conf = df[df['avg_confidence'] > threshold].copy()\n",
    "    \n",
    "    # Sort descending by avg_confidence\n",
    "    high_conf = high_conf.sort_values(by='avg_confidence', ascending=False)\n",
    "    \n",
    "    # (Optional) drop the helper columns before saving\n",
    "    high_conf = high_conf.drop(columns=['conf_list'])\n",
    "    \n",
    "    # Save results\n",
    "    high_conf.to_csv(output_csv, index=False)\n",
    "    print(f\"Filtered {len(high_conf)} tweets with avg_confidence > {threshold*100:.0f}%\")\n",
    "    \n",
    "if __name__ == \"__main__\":\n",
    "    models = \"A4M_A4M2_A4MT_A4M2T\"\n",
    "    th = 0.80\n",
    "    data_dir = Path(\".\")\n",
    "    infile  = data_dir / f\"common_{models}.csv\"\n",
    "    outfile = data_dir / f\"filtered_high_confidence_{models}_{th}.csv\"\n",
    "    filter_high_confidence(infile, outfile, threshold=th)\n"
   ]
  },
  {
   "cell_type": "code",
   "execution_count": null,
   "id": "17de35a1-a645-4871-879d-28067858fa55",
   "metadata": {},
   "outputs": [],
   "source": []
  }
 ],
 "metadata": {
  "kernelspec": {
   "display_name": "Python 3 (ipykernel)",
   "language": "python",
   "name": "python3"
  },
  "language_info": {
   "codemirror_mode": {
    "name": "ipython",
    "version": 3
   },
   "file_extension": ".py",
   "mimetype": "text/x-python",
   "name": "python",
   "nbconvert_exporter": "python",
   "pygments_lexer": "ipython3",
   "version": "3.12.8"
  }
 },
 "nbformat": 4,
 "nbformat_minor": 5
}
